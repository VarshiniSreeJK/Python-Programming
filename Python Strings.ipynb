{
 "cells": [
  {
   "cell_type": "markdown",
   "id": "4da8d238",
   "metadata": {},
   "source": [
    "### STRINGS - Part 1\n",
    "\n",
    "#### Overview of basic string concepts"
   ]
  },
  {
   "cell_type": "markdown",
   "id": "ee9cb28b",
   "metadata": {},
   "source": [
    "#### Strings\n",
    "\n",
    "1. Strings in python are enclosed inside '' or \"\".\n",
    "\n",
    "2. Python strings are immutable.\n",
    "\n",
    "3. A string in python is an object of str class.\n",
    "\n",
    "4. String is a non-numeric data type.\n",
    "\n",
    "5. Operations like slicing, indexing and concatenation can be performed in strings.\n",
    "\n",
    "6. Multiline strings can be assigned to a variable inside \"\"\"(triple quotes).\n",
    "\n",
    "7. In python strings are arrays of bytes representing unicode characters\n",
    "\n",
    "8. Python does not have a character data type, a single character is simply a string with a length of 1\n",
    "\n",
    "9. Square brackets can be used to access elements of the string.\n",
    "\n",
    "10. We can loop through the characters in a string with a for loop.\n",
    "\n",
    "11. To get the length of the string len()function is used.\n",
    "\n",
    "12. in and not in keywords can be used to check if a certain phrase or character is present or not."
   ]
  },
  {
   "cell_type": "code",
   "execution_count": 2,
   "id": "25ca6185",
   "metadata": {},
   "outputs": [
    {
     "name": "stdout",
     "output_type": "stream",
     "text": [
      "Hello\n",
      "Hello\n"
     ]
    }
   ],
   "source": [
    "#declaring a string\n",
    "\n",
    "a = 'Hello' \n",
    "b = \"Hello\" #'' and \"\" both are same\n",
    "print(a)\n",
    "print(b)"
   ]
  },
  {
   "cell_type": "code",
   "execution_count": 3,
   "id": "39b83c76",
   "metadata": {},
   "outputs": [
    {
     "name": "stdout",
     "output_type": "stream",
     "text": [
      " Data science and machine learning is the current,\n",
      "sensational course which everybody is currently interested to pursue.\n"
     ]
    }
   ],
   "source": [
    "# multiline strings\n",
    "\n",
    "a = \"\"\" Data science and machine learning is the current,\n",
    "sensational course which everybody is currently interested to pursue.\"\"\"\n",
    "print(a)"
   ]
  },
  {
   "cell_type": "code",
   "execution_count": 4,
   "id": "00503c8d",
   "metadata": {},
   "outputs": [
    {
     "name": "stdout",
     "output_type": "stream",
     "text": [
      "<class 'str'>\n"
     ]
    }
   ],
   "source": [
    "# checking the type \n",
    "\n",
    "a = 'hello'\n",
    "print(type(a))"
   ]
  },
  {
   "cell_type": "code",
   "execution_count": 5,
   "id": "07990501",
   "metadata": {},
   "outputs": [
    {
     "name": "stdout",
     "output_type": "stream",
     "text": [
      "5\n"
     ]
    }
   ],
   "source": [
    "#finding the length of string\n",
    "\n",
    "a='hello'\n",
    "print(len(a))"
   ]
  },
  {
   "cell_type": "markdown",
   "id": "ecd7d3d0",
   "metadata": {},
   "source": [
    "### 1. Indexing \n",
    "\n",
    "1. Individual characters of a String can be accessed by using the method of Indexing.\n",
    "\n",
    "2. Indexing allows negative address references to access characters from the back of the String, e.g. -1 refers to the last character, -2 refers to the second last character, and so on. "
   ]
  },
  {
   "cell_type": "code",
   "execution_count": 7,
   "id": "b76e681c",
   "metadata": {},
   "outputs": [
    {
     "data": {
      "text/plain": [
       "'c'"
      ]
     },
     "execution_count": 7,
     "metadata": {},
     "output_type": "execute_result"
    }
   ],
   "source": [
    "#Strings are arrays. Accessing the element of string using indexing[]\n",
    "\n",
    "x = \"Welcome to python programming\"\n",
    "x[3]"
   ]
  },
  {
   "cell_type": "markdown",
   "id": "cdb4e085",
   "metadata": {},
   "source": [
    "### 1.1 Negative indexing \n",
    "\n",
    "1. The 0th element will be the first character of the string whereas the -1th element is the last character of the string.\n",
    "\n",
    "2. Use negative indexes to start the slice from the end of the string"
   ]
  },
  {
   "cell_type": "code",
   "execution_count": 27,
   "id": "9e156ca6",
   "metadata": {},
   "outputs": [
    {
     "data": {
      "text/plain": [
       "'g'"
      ]
     },
     "execution_count": 27,
     "metadata": {},
     "output_type": "execute_result"
    }
   ],
   "source": [
    "#Accessing the elements of the string (negative index numbers prints from last)\n",
    "\n",
    "x = \"Welcome to python programming\"\n",
    "x[-1]"
   ]
  },
  {
   "cell_type": "code",
   "execution_count": 25,
   "id": "7aba1d52",
   "metadata": {},
   "outputs": [
    {
     "data": {
      "text/plain": [
       "'mmi'"
      ]
     },
     "execution_count": 25,
     "metadata": {},
     "output_type": "execute_result"
    }
   ],
   "source": [
    "x = \"Welcome to python programming\"\n",
    "x[-5:-2]\n",
    "\n",
    "#includes m(-5 position) and excludes -2 (n)"
   ]
  },
  {
   "cell_type": "markdown",
   "id": "d4166616",
   "metadata": {},
   "source": [
    "### 1.2 IndexError\n",
    "\n",
    "1. While accessing an index out of the range will cause an IndexError.\n",
    "\n",
    "2. Integer,float or other types that will cause a TypeError."
   ]
  },
  {
   "cell_type": "code",
   "execution_count": 13,
   "id": "e0754cbd",
   "metadata": {},
   "outputs": [
    {
     "ename": "IndexError",
     "evalue": "string index out of range",
     "output_type": "error",
     "traceback": [
      "\u001b[1;31m---------------------------------------------------------------------------\u001b[0m",
      "\u001b[1;31mIndexError\u001b[0m                                Traceback (most recent call last)",
      "Cell \u001b[1;32mIn[13], line 2\u001b[0m\n\u001b[0;32m      1\u001b[0m x \u001b[38;5;241m=\u001b[39m \u001b[38;5;124m\"\u001b[39m\u001b[38;5;124mhello\u001b[39m\u001b[38;5;124m\"\u001b[39m\n\u001b[1;32m----> 2\u001b[0m \u001b[43mx\u001b[49m\u001b[43m[\u001b[49m\u001b[38;5;241;43m5\u001b[39;49m\u001b[43m]\u001b[49m\n",
      "\u001b[1;31mIndexError\u001b[0m: string index out of range"
     ]
    }
   ],
   "source": [
    "x = \"hello\"\n",
    "x[5]"
   ]
  },
  {
   "cell_type": "code",
   "execution_count": 16,
   "id": "27d860cf",
   "metadata": {},
   "outputs": [
    {
     "ename": "TypeError",
     "evalue": "'int' object is not subscriptable",
     "output_type": "error",
     "traceback": [
      "\u001b[1;31m---------------------------------------------------------------------------\u001b[0m",
      "\u001b[1;31mTypeError\u001b[0m                                 Traceback (most recent call last)",
      "Cell \u001b[1;32mIn[16], line 2\u001b[0m\n\u001b[0;32m      1\u001b[0m x \u001b[38;5;241m=\u001b[39m \u001b[38;5;241m123\u001b[39m\n\u001b[1;32m----> 2\u001b[0m \u001b[43mx\u001b[49m\u001b[43m[\u001b[49m\u001b[38;5;241;43m0\u001b[39;49m\u001b[43m]\u001b[49m\n",
      "\u001b[1;31mTypeError\u001b[0m: 'int' object is not subscriptable"
     ]
    }
   ],
   "source": [
    "x = 123\n",
    "x[0]"
   ]
  },
  {
   "cell_type": "markdown",
   "id": "e398e9c0",
   "metadata": {},
   "source": [
    "### 2. Looping through the strings\n",
    "\n",
    "1. In python strings are arrays and can be looped through with the help of for loop"
   ]
  },
  {
   "cell_type": "code",
   "execution_count": 12,
   "id": "e2c6b098",
   "metadata": {},
   "outputs": [
    {
     "name": "stdout",
     "output_type": "stream",
     "text": [
      "h\n",
      "e\n",
      "l\n",
      "l\n",
      "o\n",
      " \n",
      "w\n",
      "o\n",
      "r\n",
      "l\n",
      "d\n"
     ]
    }
   ],
   "source": [
    "for i in \"hello world\":\n",
    "    print(i)\n",
    "#This for loop states that for every character in i print the value.\n",
    "#i holds \"hello world\" and it iterates through it hence the entire word gets printed."
   ]
  },
  {
   "cell_type": "markdown",
   "id": "5fece3d9",
   "metadata": {},
   "source": [
    "### 3.Check String\n",
    "\n",
    "1. To check if a certain phrase or character is present in a string, in keyword is used, the result would be in boolean"
   ]
  },
  {
   "cell_type": "code",
   "execution_count": 17,
   "id": "ea40ba02",
   "metadata": {},
   "outputs": [
    {
     "name": "stdout",
     "output_type": "stream",
     "text": [
      "True\n"
     ]
    }
   ],
   "source": [
    "a = \"apple a day keeps the doctor away\"\n",
    "print(\"keeps\" in a)"
   ]
  },
  {
   "cell_type": "code",
   "execution_count": 19,
   "id": "4a7093b9",
   "metadata": {},
   "outputs": [
    {
     "name": "stdout",
     "output_type": "stream",
     "text": [
      "keeps is present in a\n"
     ]
    }
   ],
   "source": [
    "#using if statement\n",
    "\n",
    "a = \"apple a day keeps the doctor away\"\n",
    "if \"keeps\" in a:\n",
    "    print(\"keeps is present in a\")"
   ]
  },
  {
   "cell_type": "markdown",
   "id": "a9a40277",
   "metadata": {},
   "source": [
    "### 3.1Check if NOT\n",
    "\n",
    "1. To check if a certain phrase or characte is not present in a string, not in keyword is used, the result would be in boolean"
   ]
  },
  {
   "cell_type": "code",
   "execution_count": 20,
   "id": "ceb40182",
   "metadata": {},
   "outputs": [
    {
     "name": "stdout",
     "output_type": "stream",
     "text": [
      "True\n"
     ]
    }
   ],
   "source": [
    "a = \"apple a day keeps the doctor away\"\n",
    "print(\"banana\" not in a)"
   ]
  },
  {
   "cell_type": "markdown",
   "id": "9a9a0254",
   "metadata": {},
   "source": [
    "### 4. Python Slicing\n",
    "\n",
    ". The String Slicing method is used to access a range of characters in the String\n",
    "\n",
    ". Specify the start index and the end index, separated by a colon, to return a part of the string.\n",
    "\n",
    ". The first character by default has index 0"
   ]
  },
  {
   "cell_type": "code",
   "execution_count": 21,
   "id": "3354bafc",
   "metadata": {},
   "outputs": [
    {
     "data": {
      "text/plain": [
       "'llo'"
      ]
     },
     "execution_count": 21,
     "metadata": {},
     "output_type": "execute_result"
    }
   ],
   "source": [
    "str1 = \"hello world\"\n",
    "str1[2:5]\n",
    "#prints from position 2 to 4. n is 5 and the output would be always(n-1)\n",
    "#Starting point will be included the ending point would be excluded.\n"
   ]
  },
  {
   "cell_type": "markdown",
   "id": "b1bb0c60",
   "metadata": {},
   "source": [
    "### 4.1 Slice from start\n",
    "\n",
    "By leaving out the start index, the range will start at the first character"
   ]
  },
  {
   "cell_type": "code",
   "execution_count": 22,
   "id": "2123966f",
   "metadata": {},
   "outputs": [
    {
     "data": {
      "text/plain": [
       "'hello'"
      ]
     },
     "execution_count": 22,
     "metadata": {},
     "output_type": "execute_result"
    }
   ],
   "source": [
    "str1 = \"hello world\"\n",
    "str1[:5]\n",
    "\n",
    "#Gets the position from start to position 4 (n-1)"
   ]
  },
  {
   "cell_type": "markdown",
   "id": "dcec5388",
   "metadata": {},
   "source": [
    "### 4.2 Slice to the end\n",
    "\n",
    "By leaving out the end index, the range will go to the end"
   ]
  },
  {
   "cell_type": "code",
   "execution_count": 24,
   "id": "d3346a65",
   "metadata": {},
   "outputs": [
    {
     "data": {
      "text/plain": [
       "'lo world'"
      ]
     },
     "execution_count": 24,
     "metadata": {},
     "output_type": "execute_result"
    }
   ],
   "source": [
    "str1 = \"hello world\"\n",
    "str1[3:]\n",
    "\n",
    "#starts from 3rd position and prints till last"
   ]
  },
  {
   "cell_type": "markdown",
   "id": "d6834c4a",
   "metadata": {},
   "source": [
    "### 5. Python Modify Strings\n",
    "\n",
    "Python has a set of built-in methods that can be used on strings."
   ]
  },
  {
   "cell_type": "markdown",
   "id": "ea902ad9",
   "metadata": {},
   "source": [
    "#### 5.1 Upper Case\n",
    "\n",
    "upper() method returns the string in upper case"
   ]
  },
  {
   "cell_type": "code",
   "execution_count": 28,
   "id": "0ec2aee3",
   "metadata": {},
   "outputs": [
    {
     "data": {
      "text/plain": [
       "'HELLO'"
      ]
     },
     "execution_count": 28,
     "metadata": {},
     "output_type": "execute_result"
    }
   ],
   "source": [
    "a = \"hello\"\n",
    "a.upper()"
   ]
  },
  {
   "cell_type": "markdown",
   "id": "04cb9b9c",
   "metadata": {},
   "source": [
    "#### 5.2 Lower Case\n",
    "\n",
    "lower() method returns the string in lower case\n"
   ]
  },
  {
   "cell_type": "code",
   "execution_count": 30,
   "id": "9fbcbb70",
   "metadata": {},
   "outputs": [
    {
     "data": {
      "text/plain": [
       "'hello'"
      ]
     },
     "execution_count": 30,
     "metadata": {},
     "output_type": "execute_result"
    }
   ],
   "source": [
    "a = \"HELLO\"\n",
    "a.lower()"
   ]
  },
  {
   "cell_type": "markdown",
   "id": "7c14ff25",
   "metadata": {},
   "source": [
    "#### 5.3 Whitespace removal\n",
    "\n",
    "1. The space present before or after the text is referred as whitespace and we might need to remove it based on our needs\n",
    "\n",
    "2. strip() method removes any whitespace in the beginning or end."
   ]
  },
  {
   "cell_type": "code",
   "execution_count": 37,
   "id": "88d65292",
   "metadata": {},
   "outputs": [
    {
     "data": {
      "text/plain": [
       "'hello, world welcome to python'"
      ]
     },
     "execution_count": 37,
     "metadata": {},
     "output_type": "execute_result"
    }
   ],
   "source": [
    "a = \" hello, world welcome to python \"\n",
    "a.strip()"
   ]
  },
  {
   "cell_type": "markdown",
   "id": "8c47d852",
   "metadata": {},
   "source": [
    "#### 5.4 String replacement\n",
    "\n",
    "replace() method replaces a string with another string"
   ]
  },
  {
   "cell_type": "code",
   "execution_count": 38,
   "id": "23875b17",
   "metadata": {},
   "outputs": [
    {
     "data": {
      "text/plain": [
       "'hello World python'"
      ]
     },
     "execution_count": 38,
     "metadata": {},
     "output_type": "execute_result"
    }
   ],
   "source": [
    "a = \"hello world python\"\n",
    "a.replace('w','W')"
   ]
  },
  {
   "cell_type": "markdown",
   "id": "1dbaf0a3",
   "metadata": {},
   "source": [
    "#### 5.5 Split String\n",
    "\n",
    "split() method returns a list where the text between the specified separator becomes the list items"
   ]
  },
  {
   "cell_type": "code",
   "execution_count": 39,
   "id": "223c4fe1",
   "metadata": {},
   "outputs": [
    {
     "data": {
      "text/plain": [
       "['hello world']"
      ]
     },
     "execution_count": 39,
     "metadata": {},
     "output_type": "execute_result"
    }
   ],
   "source": [
    "str2 = \"hello world\"\n",
    "str2.split(\",\")"
   ]
  },
  {
   "cell_type": "markdown",
   "id": "f6267727",
   "metadata": {},
   "source": [
    "#### 5.6 Deleting entire string\n",
    "\n",
    "1. Deletion of the entire string is possible with the use of del keyword.\n",
    "\n",
    "2. After deleting if we try to print the string it will throw error because it will be unavailable\n"
   ]
  },
  {
   "cell_type": "code",
   "execution_count": 42,
   "id": "1cad0de4",
   "metadata": {},
   "outputs": [
    {
     "data": {
      "text/plain": [
       "'python'"
      ]
     },
     "execution_count": 42,
     "metadata": {},
     "output_type": "execute_result"
    }
   ],
   "source": [
    "#declaring a string\n",
    "str3 = 'python'\n",
    "str3"
   ]
  },
  {
   "cell_type": "code",
   "execution_count": 43,
   "id": "8bfa61c8",
   "metadata": {},
   "outputs": [],
   "source": [
    "#deleting the string\n",
    "del str3"
   ]
  },
  {
   "cell_type": "code",
   "execution_count": 44,
   "id": "c935f40a",
   "metadata": {},
   "outputs": [
    {
     "ename": "NameError",
     "evalue": "name 'str3' is not defined",
     "output_type": "error",
     "traceback": [
      "\u001b[1;31m---------------------------------------------------------------------------\u001b[0m",
      "\u001b[1;31mNameError\u001b[0m                                 Traceback (most recent call last)",
      "Cell \u001b[1;32mIn[44], line 1\u001b[0m\n\u001b[1;32m----> 1\u001b[0m \u001b[43mstr3\u001b[49m\n",
      "\u001b[1;31mNameError\u001b[0m: name 'str3' is not defined"
     ]
    }
   ],
   "source": [
    "#trying to print after deleting\n",
    "str3"
   ]
  },
  {
   "cell_type": "markdown",
   "id": "aa8dd240",
   "metadata": {},
   "source": [
    "### 6. String Concatenation\n",
    "\n",
    "To concatenate, or combine, two strings + operator is used."
   ]
  },
  {
   "cell_type": "code",
   "execution_count": 46,
   "id": "835bb282",
   "metadata": {},
   "outputs": [
    {
     "data": {
      "text/plain": [
       "'helloworld'"
      ]
     },
     "execution_count": 46,
     "metadata": {},
     "output_type": "execute_result"
    }
   ],
   "source": [
    "a = 'hello'\n",
    "b = 'world'\n",
    "c = a + b\n",
    "c"
   ]
  },
  {
   "cell_type": "code",
   "execution_count": 47,
   "id": "8994e93f",
   "metadata": {},
   "outputs": [
    {
     "data": {
      "text/plain": [
       "'hi welcome'"
      ]
     },
     "execution_count": 47,
     "metadata": {},
     "output_type": "execute_result"
    }
   ],
   "source": [
    "#to add space add \"\" between +\n",
    "\n",
    "a = \"hi\"\n",
    "b = \"welcome\"\n",
    "c = a+\" \"+b\n",
    "c"
   ]
  },
  {
   "cell_type": "markdown",
   "id": "672d92d2",
   "metadata": {},
   "source": [
    "### 7. Python - Format - Strings\n",
    "\n",
    "1. Strings and numbers cannot be combined together.\n",
    "\n",
    "2. format() method is used to combine strings and numbers.\n",
    "\n",
    "3. The format() method takes the passed arguments, formats them, and places them in the string where the placeholders {} are"
   ]
  },
  {
   "cell_type": "code",
   "execution_count": 48,
   "id": "9c2084b2",
   "metadata": {},
   "outputs": [
    {
     "data": {
      "text/plain": [
       "'I work in IT and have 4 years of experience'"
      ]
     },
     "execution_count": 48,
     "metadata": {},
     "output_type": "execute_result"
    }
   ],
   "source": [
    "#using format() to insert numbers into strings\n",
    "\n",
    "exp = 4\n",
    "str1 = \"I work in IT and have {} years of experience\"\n",
    "str1.format(exp)"
   ]
  },
  {
   "cell_type": "code",
   "execution_count": 50,
   "id": "867f67bb",
   "metadata": {},
   "outputs": [
    {
     "data": {
      "text/plain": [
       "'I work in IT, my age is 23 and I have 3 years of experience'"
      ]
     },
     "execution_count": 50,
     "metadata": {},
     "output_type": "execute_result"
    }
   ],
   "source": [
    "# The format() method takes unlimited number of arguments, and are placed into the respective placeholders\n",
    "\n",
    "age = 23\n",
    "exp = 3\n",
    "str2 = \"I work in IT, my age is {} and I have {} years of experience\"\n",
    "str2.format(age,exp)"
   ]
  },
  {
   "cell_type": "code",
   "execution_count": 54,
   "id": "e875c341",
   "metadata": {},
   "outputs": [
    {
     "data": {
      "text/plain": [
       "'I work in IT, my age is 23 and I have 3 years of experience'"
      ]
     },
     "execution_count": 54,
     "metadata": {},
     "output_type": "execute_result"
    }
   ],
   "source": [
    "#Index numbers can also be used to be sure that the arguments are placed in the correct placeholders\n",
    "\n",
    "age = 23 #0th index\n",
    "exp = 3 #1st index\n",
    "str2 = \"I work in IT, my age is {0} and I have {1} years of experience\"\n",
    "str2.format(age,exp)"
   ]
  },
  {
   "cell_type": "markdown",
   "id": "7a83af9f",
   "metadata": {},
   "source": [
    "### 8. Python escape sequence overview\n",
    "\n",
    "1. While printing Strings with single and double quotes in it causes SyntaxError because String already contains Single and Double Quotes and hence cannot be printed with the use of either of these.\n",
    "\n",
    "2. To print such a String either Triple Quotes are used or Escape sequences are used to print Strings. \n",
    "\n",
    "3. To insert characters that are illegal in a string, use an escape character.\n",
    "\n",
    "4. An escape character is a backslash \\ followed by the character you want to insert."
   ]
  },
  {
   "cell_type": "code",
   "execution_count": 56,
   "id": "fa11a8c3",
   "metadata": {},
   "outputs": [
    {
     "ename": "SyntaxError",
     "evalue": "invalid syntax (3423710965.py, line 3)",
     "output_type": "error",
     "traceback": [
      "\u001b[1;36m  Cell \u001b[1;32mIn[56], line 3\u001b[1;36m\u001b[0m\n\u001b[1;33m    str1 = \"So called \"Badshaah\" of bollywood\"\u001b[0m\n\u001b[1;37m                       ^\u001b[0m\n\u001b[1;31mSyntaxError\u001b[0m\u001b[1;31m:\u001b[0m invalid syntax\n"
     ]
    }
   ],
   "source": [
    "#error scenario\n",
    "\n",
    "str1 = \"So called \"Badshaah\" of bollywood\"\n",
    "str1"
   ]
  },
  {
   "cell_type": "code",
   "execution_count": 57,
   "id": "fba10124",
   "metadata": {},
   "outputs": [
    {
     "data": {
      "text/plain": [
       "'So called \"Badshaah\" of bollywood'"
      ]
     },
     "execution_count": 57,
     "metadata": {},
     "output_type": "execute_result"
    }
   ],
   "source": [
    "#using escape character\n",
    "\n",
    "str1 = \"So called \\\"Badshaah\\\" of bollywood\"\n",
    "str1"
   ]
  }
 ],
 "metadata": {
  "kernelspec": {
   "display_name": "Python 3 (ipykernel)",
   "language": "python",
   "name": "python3"
  },
  "language_info": {
   "codemirror_mode": {
    "name": "ipython",
    "version": 3
   },
   "file_extension": ".py",
   "mimetype": "text/x-python",
   "name": "python",
   "nbconvert_exporter": "python",
   "pygments_lexer": "ipython3",
   "version": "3.10.9"
  }
 },
 "nbformat": 4,
 "nbformat_minor": 5
}
