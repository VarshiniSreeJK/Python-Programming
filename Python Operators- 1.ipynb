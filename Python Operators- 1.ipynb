{
 "cells": [
  {
   "cell_type": "markdown",
   "id": "77afbb55",
   "metadata": {},
   "source": [
    "## OPERATORS - PART 1"
   ]
  },
  {
   "cell_type": "markdown",
   "id": "6cd5817b",
   "metadata": {},
   "source": [
    "### Operators\n",
    "\n",
    "1. Operators are used to perform operations on variables and values.\n",
    "\n",
    "2. OPERATORS : These are special symbols. Eg. -, +, *, / etc\n",
    "\n",
    "3. OPERANDS: It is the value on which the operator is applied"
   ]
  },
  {
   "cell_type": "markdown",
   "id": "bdf1c5c2",
   "metadata": {},
   "source": [
    "### Types of Operators\n",
    "\n",
    "1. Arithmetic Operators\n",
    "\n",
    "2. Assignment Operators\n",
    "\n",
    "3. Comparison Operators\n",
    "\n",
    "4. Logical Operators\n",
    "\n",
    "5. Identity Operators\n",
    "\n",
    "6. Membership Operators\n",
    "\n",
    "7. Bitwise Operators\n"
   ]
  },
  {
   "cell_type": "markdown",
   "id": "cd93c759",
   "metadata": {},
   "source": [
    "### 1. Arithmetic Operators:\n",
    "\n",
    "1. Arithmetic operators are used with numeric values to perform common mathematical operations\n"
   ]
  },
  {
   "cell_type": "markdown",
   "id": "22ceb894",
   "metadata": {},
   "source": [
    "#### 1.1 Addition (+)\n",
    "\n",
    "- Used to perform addition operation."
   ]
  },
  {
   "cell_type": "code",
   "execution_count": 1,
   "id": "e58b6f53",
   "metadata": {},
   "outputs": [
    {
     "data": {
      "text/plain": [
       "30"
      ]
     },
     "execution_count": 1,
     "metadata": {},
     "output_type": "execute_result"
    }
   ],
   "source": [
    "a = 10\n",
    "b = 20\n",
    "c = a+b\n",
    "c"
   ]
  },
  {
   "cell_type": "markdown",
   "id": "b7c64dd5",
   "metadata": {},
   "source": [
    "#### 1.2 Subtraction (-)\n",
    "\n",
    "- Used to perform operation"
   ]
  },
  {
   "cell_type": "code",
   "execution_count": 2,
   "id": "baed7932",
   "metadata": {},
   "outputs": [
    {
     "data": {
      "text/plain": [
       "25"
      ]
     },
     "execution_count": 2,
     "metadata": {},
     "output_type": "execute_result"
    }
   ],
   "source": [
    "a = 30\n",
    "b = 5\n",
    "c = a-b\n",
    "c"
   ]
  },
  {
   "cell_type": "markdown",
   "id": "21f85b35",
   "metadata": {},
   "source": [
    "#### 1.3 Multiplication (*)\n",
    "\n",
    "- Used to perform multiplication operation between two operands"
   ]
  },
  {
   "cell_type": "code",
   "execution_count": 3,
   "id": "a4a5dca0",
   "metadata": {},
   "outputs": [
    {
     "data": {
      "text/plain": [
       "200"
      ]
     },
     "execution_count": 3,
     "metadata": {},
     "output_type": "execute_result"
    }
   ],
   "source": [
    "a = 10\n",
    "b = 20\n",
    "c = a*b\n",
    "c"
   ]
  },
  {
   "cell_type": "markdown",
   "id": "90874af7",
   "metadata": {},
   "source": [
    "#### 1.4 Division (/)\n",
    "\n",
    "- / symbol is used to perform division operation (returns the quotient)"
   ]
  },
  {
   "cell_type": "code",
   "execution_count": 4,
   "id": "392060b6",
   "metadata": {},
   "outputs": [
    {
     "data": {
      "text/plain": [
       "15.0"
      ]
     },
     "execution_count": 4,
     "metadata": {},
     "output_type": "execute_result"
    }
   ],
   "source": [
    "a = 30\n",
    "b = 2\n",
    "c = a/b\n",
    "c"
   ]
  },
  {
   "cell_type": "markdown",
   "id": "ff32ca2d",
   "metadata": {},
   "source": [
    "#### 1.5 Modulus (%)\n",
    "\n",
    "- % returns the remainder when the first operand is divided by the second\n",
    "\n"
   ]
  },
  {
   "cell_type": "code",
   "execution_count": 5,
   "id": "ece998ca",
   "metadata": {},
   "outputs": [
    {
     "data": {
      "text/plain": [
       "2"
      ]
     },
     "execution_count": 5,
     "metadata": {},
     "output_type": "execute_result"
    }
   ],
   "source": [
    "a = 10\n",
    "b = 4\n",
    "c = a%b\n",
    "c"
   ]
  },
  {
   "cell_type": "markdown",
   "id": "3d825a5a",
   "metadata": {},
   "source": [
    "#### 1.6 Floor division (//)\n",
    "\n",
    "- divides the first operand by the second. rounds the result down to the nearest whole number"
   ]
  },
  {
   "cell_type": "code",
   "execution_count": 6,
   "id": "5269b2f1",
   "metadata": {},
   "outputs": [
    {
     "data": {
      "text/plain": [
       "7"
      ]
     },
     "execution_count": 6,
     "metadata": {},
     "output_type": "execute_result"
    }
   ],
   "source": [
    "a = 15\n",
    "b = 2\n",
    "c = a//b\n",
    "c"
   ]
  },
  {
   "cell_type": "markdown",
   "id": "60a71b3a",
   "metadata": {},
   "source": [
    "#### 1.7 Exponentiation (**)\n",
    "\n",
    "- Returns first raised to power second"
   ]
  },
  {
   "cell_type": "code",
   "execution_count": 7,
   "id": "046610bf",
   "metadata": {},
   "outputs": [
    {
     "data": {
      "text/plain": [
       "32"
      ]
     },
     "execution_count": 7,
     "metadata": {},
     "output_type": "execute_result"
    }
   ],
   "source": [
    "x = 2\n",
    "y = 5\n",
    "z = x**y\n",
    "z"
   ]
  },
  {
   "cell_type": "markdown",
   "id": "43fa78af",
   "metadata": {},
   "source": [
    "### 2. Assignment Operators\n",
    "\n",
    "- Assignment operators are used to assign values to variables"
   ]
  },
  {
   "cell_type": "markdown",
   "id": "cfdeafd5",
   "metadata": {},
   "source": [
    "#### 2.1 Equal to (=)"
   ]
  },
  {
   "cell_type": "code",
   "execution_count": 8,
   "id": "99f7e9aa",
   "metadata": {},
   "outputs": [
    {
     "name": "stdout",
     "output_type": "stream",
     "text": [
      "5\n"
     ]
    }
   ],
   "source": [
    "x = 5 #assigns value 5 to x\n",
    "print(x)"
   ]
  },
  {
   "cell_type": "markdown",
   "id": "db75c684",
   "metadata": {},
   "source": [
    "#### 2.2  (+=) Similar to addition\n",
    "\n",
    "- Add and Assign: Add right side operand with left side operand and then assign to left operand"
   ]
  },
  {
   "cell_type": "code",
   "execution_count": 9,
   "id": "8d6c5f06",
   "metadata": {},
   "outputs": [
    {
     "data": {
      "text/plain": [
       "11"
      ]
     },
     "execution_count": 9,
     "metadata": {},
     "output_type": "execute_result"
    }
   ],
   "source": [
    "x = 5\n",
    "x += 6\n",
    "x"
   ]
  },
  {
   "cell_type": "markdown",
   "id": "39c93d11",
   "metadata": {},
   "source": [
    "#### 2.3 (-=) Similar to subtraction\n",
    "\n",
    "- Subtract AND: Subtract right operand from left operand and then assign to left operand: True if both operands are equal"
   ]
  },
  {
   "cell_type": "code",
   "execution_count": 10,
   "id": "71b0f057",
   "metadata": {},
   "outputs": [
    {
     "data": {
      "text/plain": [
       "3"
      ]
     },
     "execution_count": 10,
     "metadata": {},
     "output_type": "execute_result"
    }
   ],
   "source": [
    "x = 5\n",
    "x-= 2\n",
    "x"
   ]
  },
  {
   "cell_type": "markdown",
   "id": "a85860ae",
   "metadata": {},
   "source": [
    "#### 2.4 (*=) Similar to multiplication\n",
    "\n",
    "- Multiply AND: Multiply right operand with left operand and then assign to left operand\n"
   ]
  },
  {
   "cell_type": "code",
   "execution_count": 11,
   "id": "9769c353",
   "metadata": {},
   "outputs": [
    {
     "data": {
      "text/plain": [
       "30"
      ]
     },
     "execution_count": 11,
     "metadata": {},
     "output_type": "execute_result"
    }
   ],
   "source": [
    "x = 5\n",
    "x *= 6\n",
    "x"
   ]
  },
  {
   "cell_type": "markdown",
   "id": "11cba564",
   "metadata": {},
   "source": [
    "#### 2.5 (/=) Similar to division\n",
    "\n",
    "- Divide AND: Divide left operand with right operand and then assign to left operand"
   ]
  },
  {
   "cell_type": "code",
   "execution_count": 13,
   "id": "86f9b4fe",
   "metadata": {},
   "outputs": [
    {
     "data": {
      "text/plain": [
       "5.0"
      ]
     },
     "execution_count": 13,
     "metadata": {},
     "output_type": "execute_result"
    }
   ],
   "source": [
    "x = 10\n",
    "x /= 2\n",
    "x"
   ]
  },
  {
   "cell_type": "markdown",
   "id": "27684453",
   "metadata": {},
   "source": [
    "#### 2.6 (%=) Similar to modulus\n",
    "\n",
    "- Modulus AND: Takes modulus using left and right operands and assign result to left operand"
   ]
  },
  {
   "cell_type": "code",
   "execution_count": 14,
   "id": "ffd374f6",
   "metadata": {},
   "outputs": [
    {
     "data": {
      "text/plain": [
       "0"
      ]
     },
     "execution_count": 14,
     "metadata": {},
     "output_type": "execute_result"
    }
   ],
   "source": [
    "x = 10\n",
    "x %= 2\n",
    "x"
   ]
  },
  {
   "cell_type": "markdown",
   "id": "8987b0fb",
   "metadata": {},
   "source": [
    "#### 2.7 (//=) Similar to floor division\n",
    "\n",
    "- Divide(floor) AND: Divide left operand with right operand and then assign the value(floor) to left operand"
   ]
  },
  {
   "cell_type": "code",
   "execution_count": 15,
   "id": "4be09ffa",
   "metadata": {},
   "outputs": [
    {
     "data": {
      "text/plain": [
       "2"
      ]
     },
     "execution_count": 15,
     "metadata": {},
     "output_type": "execute_result"
    }
   ],
   "source": [
    "x = 10\n",
    "x //= 5\n",
    "x"
   ]
  },
  {
   "cell_type": "markdown",
   "id": "4a97f3d7",
   "metadata": {},
   "source": [
    "#### 2.8 (**=) Similar to exponentiation\n",
    "\n",
    "- Exponent AND: Calculate exponent(raise power) value using operands and assign value to left operand"
   ]
  },
  {
   "cell_type": "code",
   "execution_count": 16,
   "id": "6bb1d9fa",
   "metadata": {},
   "outputs": [
    {
     "data": {
      "text/plain": [
       "100"
      ]
     },
     "execution_count": 16,
     "metadata": {},
     "output_type": "execute_result"
    }
   ],
   "source": [
    "x = 10\n",
    "x **=2\n",
    "x"
   ]
  },
  {
   "cell_type": "markdown",
   "id": "cedae3e7",
   "metadata": {},
   "source": [
    "#### 2.9 (&=)\n",
    "\n",
    "- Performs Bitwise AND on operands and assign value to left operand"
   ]
  },
  {
   "cell_type": "code",
   "execution_count": 18,
   "id": "32196047",
   "metadata": {},
   "outputs": [
    {
     "data": {
      "text/plain": [
       "1"
      ]
     },
     "execution_count": 18,
     "metadata": {},
     "output_type": "execute_result"
    }
   ],
   "source": [
    "x = 5\n",
    "\n",
    "x &= 3\n",
    "\n",
    "x"
   ]
  },
  {
   "cell_type": "markdown",
   "id": "2ea541c5",
   "metadata": {},
   "source": [
    "#### 2.10 (|=)\n",
    "\n",
    "- \tPerforms Bitwise OR on operands and assign value to left operand"
   ]
  },
  {
   "cell_type": "code",
   "execution_count": 19,
   "id": "074524c1",
   "metadata": {},
   "outputs": [
    {
     "data": {
      "text/plain": [
       "7"
      ]
     },
     "execution_count": 19,
     "metadata": {},
     "output_type": "execute_result"
    }
   ],
   "source": [
    "x = 5\n",
    "\n",
    "x |= 3\n",
    "\n",
    "x"
   ]
  },
  {
   "cell_type": "markdown",
   "id": "e1ced9bf",
   "metadata": {},
   "source": [
    "#### 2.11 (^=)\n",
    "\n",
    "- Performs Bitwise xOR on operands and assign value to left operand"
   ]
  },
  {
   "cell_type": "code",
   "execution_count": 20,
   "id": "6347258f",
   "metadata": {},
   "outputs": [
    {
     "data": {
      "text/plain": [
       "6"
      ]
     },
     "execution_count": 20,
     "metadata": {},
     "output_type": "execute_result"
    }
   ],
   "source": [
    "x = 5\n",
    "\n",
    "x ^= 3\n",
    "\n",
    "x"
   ]
  },
  {
   "cell_type": "markdown",
   "id": "696622cc",
   "metadata": {},
   "source": [
    "#### 2.12 (>>=)\n",
    "\n",
    "- Performs Bitwise right shift on operands and assign value to left operand"
   ]
  },
  {
   "cell_type": "code",
   "execution_count": 21,
   "id": "cb8f303c",
   "metadata": {},
   "outputs": [
    {
     "data": {
      "text/plain": [
       "0"
      ]
     },
     "execution_count": 21,
     "metadata": {},
     "output_type": "execute_result"
    }
   ],
   "source": [
    "x = 5\n",
    "\n",
    "x >>= 3\n",
    "\n",
    "x"
   ]
  },
  {
   "cell_type": "markdown",
   "id": "9811a8cb",
   "metadata": {},
   "source": [
    "#### 2.13 (<<=)\n",
    "\n",
    "- Performs Bitwise left shift on operands and assign value to left operand"
   ]
  },
  {
   "cell_type": "code",
   "execution_count": 22,
   "id": "b6612106",
   "metadata": {},
   "outputs": [
    {
     "data": {
      "text/plain": [
       "40"
      ]
     },
     "execution_count": 22,
     "metadata": {},
     "output_type": "execute_result"
    }
   ],
   "source": [
    "x = 5\n",
    "\n",
    "x <<= 3\n",
    "\n",
    "x"
   ]
  },
  {
   "cell_type": "markdown",
   "id": "177592e3",
   "metadata": {},
   "source": [
    "### 3. Comparison Operators\n",
    "\n",
    "- Relational operators are used for comparing the values.\n",
    "\n",
    "- It either returns True or False according to the condition. \n",
    "\n",
    "- These operators are also known as Comparison Operators."
   ]
  },
  {
   "cell_type": "markdown",
   "id": "e75c5f1d",
   "metadata": {},
   "source": [
    "#### 3.1 Equal (==)\n",
    "\n",
    "- Equal to: True if both operands are equal"
   ]
  },
  {
   "cell_type": "code",
   "execution_count": 24,
   "id": "bc321a07",
   "metadata": {},
   "outputs": [
    {
     "data": {
      "text/plain": [
       "True"
      ]
     },
     "execution_count": 24,
     "metadata": {},
     "output_type": "execute_result"
    }
   ],
   "source": [
    "a = 5\n",
    "b = 5\n",
    "a==5\n"
   ]
  },
  {
   "cell_type": "markdown",
   "id": "188e135b",
   "metadata": {},
   "source": [
    "#### 3.2 Not equal t0 (!=)\n",
    "\n",
    "- Not equal to – True if operands are not equal"
   ]
  },
  {
   "cell_type": "code",
   "execution_count": 25,
   "id": "cd38cdf1",
   "metadata": {},
   "outputs": [
    {
     "data": {
      "text/plain": [
       "True"
      ]
     },
     "execution_count": 25,
     "metadata": {},
     "output_type": "execute_result"
    }
   ],
   "source": [
    "a = 6\n",
    "b = 5\n",
    "a!=b"
   ]
  },
  {
   "cell_type": "markdown",
   "id": "54a1fee2",
   "metadata": {},
   "source": [
    "#### 3.3 Greater than (>)\n",
    "\n",
    "- Greater than: True if the left operand is greater than the right"
   ]
  },
  {
   "cell_type": "code",
   "execution_count": 26,
   "id": "a7f29468",
   "metadata": {},
   "outputs": [
    {
     "data": {
      "text/plain": [
       "True"
      ]
     },
     "execution_count": 26,
     "metadata": {},
     "output_type": "execute_result"
    }
   ],
   "source": [
    "a = 10\n",
    "b = 30\n",
    "b >a"
   ]
  },
  {
   "cell_type": "markdown",
   "id": "867b1afb",
   "metadata": {},
   "source": [
    "#### 3.4 Lesser than (<)\n",
    "\n",
    "- Less than: True if the left operand is less than the right"
   ]
  },
  {
   "cell_type": "code",
   "execution_count": 27,
   "id": "fab150dd",
   "metadata": {},
   "outputs": [
    {
     "data": {
      "text/plain": [
       "True"
      ]
     },
     "execution_count": 27,
     "metadata": {},
     "output_type": "execute_result"
    }
   ],
   "source": [
    "a = 5\n",
    "b = 7\n",
    "a<b"
   ]
  },
  {
   "cell_type": "markdown",
   "id": "6b57af49",
   "metadata": {},
   "source": [
    "#### 3.5 Greater than or equal to (>=)\n",
    "\n",
    "- True if left operand is greater than or equal to the right"
   ]
  },
  {
   "cell_type": "code",
   "execution_count": 28,
   "id": "4f45e37b",
   "metadata": {},
   "outputs": [
    {
     "data": {
      "text/plain": [
       "True"
      ]
     },
     "execution_count": 28,
     "metadata": {},
     "output_type": "execute_result"
    }
   ],
   "source": [
    "a = 7\n",
    "b = 7\n",
    "a>=b"
   ]
  },
  {
   "cell_type": "markdown",
   "id": "40c8a7ec",
   "metadata": {},
   "source": [
    "#### 3.6 Less than or equal to (<=)\n",
    "\n",
    "- True if left operand is less than or equal to the right"
   ]
  },
  {
   "cell_type": "code",
   "execution_count": 29,
   "id": "a2e31dad",
   "metadata": {},
   "outputs": [
    {
     "data": {
      "text/plain": [
       "True"
      ]
     },
     "execution_count": 29,
     "metadata": {},
     "output_type": "execute_result"
    }
   ],
   "source": [
    "a = 5\n",
    "b = 6\n",
    "a <=b"
   ]
  }
 ],
 "metadata": {
  "kernelspec": {
   "display_name": "Python 3 (ipykernel)",
   "language": "python",
   "name": "python3"
  },
  "language_info": {
   "codemirror_mode": {
    "name": "ipython",
    "version": 3
   },
   "file_extension": ".py",
   "mimetype": "text/x-python",
   "name": "python",
   "nbconvert_exporter": "python",
   "pygments_lexer": "ipython3",
   "version": "3.10.9"
  }
 },
 "nbformat": 4,
 "nbformat_minor": 5
}
