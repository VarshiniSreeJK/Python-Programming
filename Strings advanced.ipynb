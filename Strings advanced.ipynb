{
 "cells": [
  {
   "cell_type": "markdown",
   "id": "d23ad60b",
   "metadata": {},
   "source": [
    "### Strings Advanced Concepts and Methods"
   ]
  },
  {
   "cell_type": "markdown",
   "id": "add2396d",
   "metadata": {},
   "source": [
    "#### Concepts \n",
    "\n",
    "1. Deleting/Updating from a String\n",
    "\n",
    "2. Escape sequence and characters\n",
    "\n",
    "3. Reversing a String\n",
    "\n",
    "4. Format Strings\n",
    "\n",
    "5. String methods and examples"
   ]
  },
  {
   "cell_type": "markdown",
   "id": "67c13bc5",
   "metadata": {},
   "source": [
    "### 1. Deleting/Updating from a string\n",
    "\n",
    "1. In Python, the Updation or deletion of characters from a String is not allowed.\n",
    "\n",
    "2. This will cause an error because item assignment or item deletion from a String is not supported.\n",
    "\n",
    "3. Deletion of the entire string is possible with built-in keyword del.\n",
    "\n",
    "4. Strings are immutable, hence elements of a String cannot be changed once assigned.\n",
    "\n",
    "5. Only new strings can be reassigned to the same name."
   ]
  },
  {
   "cell_type": "markdown",
   "id": "f0b08c4d",
   "metadata": {},
   "source": [
    "#### 1.1 Updating a character\n",
    "\n",
    "1. Method 1 - A character of a string can be updated in Python by first converting the string into a Python List and then updating the element in the list.\n",
    "\n",
    "2. Method 2 - Another way is using the string slicing method. Slicing the string before the character you want to update, then add the new character and finally add the other part of the string again by string slicing."
   ]
  },
  {
   "cell_type": "code",
   "execution_count": 3,
   "id": "fd9b1d43",
   "metadata": {},
   "outputs": [
    {
     "name": "stdout",
     "output_type": "stream",
     "text": [
      "Given String: hello world\n",
      "After converting to list: ['h', 'e', 'l', 'l', 'o', ' ', 'w', 'o', 'r', 'l', 'd']\n",
      "After updating the string using list: hello World\n"
     ]
    }
   ],
   "source": [
    "#Method 1\n",
    "\n",
    "str1 = \"hello world\"\n",
    "print('Given String:', str1)\n",
    "list1 = list(str1) #string is converted to list by using list()\n",
    "print('After converting to list:', list1)\n",
    "list1[6]='W'\n",
    "str2 = ''.join(list1) #list is again converted to string after updating it by using join().\n",
    "print('After updating the string using list:', str2)"
   ]
  },
  {
   "cell_type": "code",
   "execution_count": 9,
   "id": "cce789bf",
   "metadata": {},
   "outputs": [
    {
     "name": "stdout",
     "output_type": "stream",
     "text": [
      "Given String: hello world\n",
      "After converting to list: ['h', 'e', 'l', 'l', 'o', ' ', 'w', 'o', 'r', 'l', 'd']\n",
      "After updating the string using list: hello World\n"
     ]
    }
   ],
   "source": [
    "#Method 2 - using slice method \n",
    "\n",
    "str1 = \"hello world\"\n",
    "print('Given String:', str1)\n",
    "list1 = list(str1) #string is converted to list by using list()\n",
    "print('After converting to list:', list1)\n",
    "\n",
    "#string slicing method is used, where slicing is done upto the character where the updation is required\n",
    "#New character is concatenated, finally the remaining part of the string is concatenated\n",
    "\n",
    "str2 = str1[0:5] +' '+ 'W' + str1[7:] \n",
    "print('After updating the string using list:', str2)"
   ]
  },
  {
   "cell_type": "markdown",
   "id": "6420eaa2",
   "metadata": {},
   "source": [
    "#### 1.2 Updating entire string\n",
    "\n",
    "1. Python strings are immutable in nature hence the existing string cannot be updated.\n",
    "\n",
    "2. Only way is to assign a completely new value to the variable with the same name."
   ]
  },
  {
   "cell_type": "code",
   "execution_count": 10,
   "id": "3aec07c1",
   "metadata": {},
   "outputs": [
    {
     "name": "stdout",
     "output_type": "stream",
     "text": [
      "Initial string: Hello world\n",
      "Updated string: Python programming\n"
     ]
    }
   ],
   "source": [
    "#Example\n",
    "\n",
    "str1 = \"Hello world\"\n",
    "print('Initial string:', str1)\n",
    "str1 = \"Python programming\"\n",
    "print('Updated string:', str1)"
   ]
  },
  {
   "cell_type": "markdown",
   "id": "e29aefd9",
   "metadata": {},
   "source": [
    "#### 1.3 Deleting a character\n",
    "\n",
    "1. First string slicing is performed upto the character that needs to be deleted and then concatenate the remaining string next from the deleted character\n"
   ]
  },
  {
   "cell_type": "code",
   "execution_count": 11,
   "id": "d8e5d490",
   "metadata": {},
   "outputs": [
    {
     "name": "stdout",
     "output_type": "stream",
     "text": [
      "Initial string: helwlo\n",
      "After deleting: hello\n"
     ]
    }
   ],
   "source": [
    "str1 = 'helwlo'\n",
    "print('Initial string:',str1)\n",
    "\n",
    "str2= str1[:3]+str1[4:]\n",
    "print('After deleting:', str2)"
   ]
  },
  {
   "cell_type": "markdown",
   "id": "ed5ab361",
   "metadata": {},
   "source": [
    "### 2. Escape Sequence and characters\n",
    "\n",
    "1. String already contains Single and Double Quotes and hence cannot be printed with the use of either of these, if printed then it causes SyntaxError.\n",
    "\n",
    "2. To insert characters that are illegal in a string, use an escape character\n",
    "\n",
    "3. An escape character is a backslash \\ followed by the character you want to insert."
   ]
  },
  {
   "cell_type": "code",
   "execution_count": 13,
   "id": "2fd25409",
   "metadata": {},
   "outputs": [
    {
     "name": "stdout",
     "output_type": "stream",
     "text": [
      "All the best \"hero\" for your movie\n"
     ]
    }
   ],
   "source": [
    "str1 = \"All the best \\\"hero\\\" for your movie\"\n",
    "print(str1)\n"
   ]
  },
  {
   "cell_type": "markdown",
   "id": "45352b46",
   "metadata": {},
   "source": [
    "To ignore the escape sequences in a String, r or R is used, this implies that the string is a raw string and escape sequences inside it are to be ignored"
   ]
  },
  {
   "cell_type": "code",
   "execution_count": 14,
   "id": "9c2d1542",
   "metadata": {},
   "outputs": [
    {
     "name": "stdout",
     "output_type": "stream",
     "text": [
      "\n",
      "Printing Raw String in Octal Format: \n",
      "This is \\110\\145\\154\\154\\157\n"
     ]
    }
   ],
   "source": [
    "String1 = r\"This is \\110\\145\\154\\154\\157\"\n",
    "print(\"\\nPrinting Raw String in Octal Format: \") \n",
    "print(String1)"
   ]
  },
  {
   "cell_type": "code",
   "execution_count": 15,
   "id": "d7898c96",
   "metadata": {},
   "outputs": [
    {
     "name": "stdout",
     "output_type": "stream",
     "text": [
      "\n",
      "Printing in HEX with the use of Escape Sequences: \n",
      "This is Geeks in HEX\n"
     ]
    }
   ],
   "source": [
    "# Printing Geeks in HEX \n",
    "String1 = \"This is \\x47\\x65\\x65\\x6b\\x73 in \\x48\\x45\\x58\"\n",
    "print(\"\\nPrinting in HEX with the use of Escape Sequences: \") \n",
    "print(String1)"
   ]
  },
  {
   "cell_type": "markdown",
   "id": "b6d8138b",
   "metadata": {},
   "source": [
    "#### 2.2 Other escape characters in python\n",
    "\n"
   ]
  },
  {
   "cell_type": "code",
   "execution_count": 17,
   "id": "6d2591de",
   "metadata": {},
   "outputs": [
    {
     "name": "stdout",
     "output_type": "stream",
     "text": [
      "It's alright.\n"
     ]
    }
   ],
   "source": [
    "# \\' Single quote\n",
    "\n",
    "txt = 'It\\'s alright.'\n",
    "print(txt)"
   ]
  },
  {
   "cell_type": "code",
   "execution_count": 20,
   "id": "f8e2d31e",
   "metadata": {},
   "outputs": [
    {
     "name": "stdout",
     "output_type": "stream",
     "text": [
      "example of a \\ (backslash)\n"
     ]
    }
   ],
   "source": [
    "# \\\\ Backslash\n",
    "\n",
    "a = 'example of a \\\\ (backslash)'\n",
    "print(a)"
   ]
  },
  {
   "cell_type": "code",
   "execution_count": 22,
   "id": "e8e4c8c1",
   "metadata": {},
   "outputs": [
    {
     "name": "stdout",
     "output_type": "stream",
     "text": [
      "python\n",
      "programming\n"
     ]
    }
   ],
   "source": [
    "# \\n new line - introduces a new line\n",
    "\n",
    "str1 = \"python\\nprogramming\"\n",
    "print(str1)"
   ]
  },
  {
   "cell_type": "code",
   "execution_count": 25,
   "id": "549cc8b5",
   "metadata": {},
   "outputs": [
    {
     "name": "stdout",
     "output_type": "stream",
     "text": [
      "World!\n"
     ]
    }
   ],
   "source": [
    "# \\r -carriage return \n",
    "\n",
    "txt = \"Hello\\rWorld!\"\n",
    "print(txt) \n"
   ]
  },
  {
   "cell_type": "code",
   "execution_count": 27,
   "id": "d91b7d48",
   "metadata": {},
   "outputs": [
    {
     "name": "stdout",
     "output_type": "stream",
     "text": [
      "Hello\tWorld!\n"
     ]
    }
   ],
   "source": [
    "# \\t - tab\n",
    "\n",
    "a = \"Hello\\tWorld!\"\n",
    "print(a) \n"
   ]
  },
  {
   "cell_type": "code",
   "execution_count": 28,
   "id": "3e7f63b2",
   "metadata": {},
   "outputs": [
    {
     "name": "stdout",
     "output_type": "stream",
     "text": [
      "Hello \bWorld!\n"
     ]
    }
   ],
   "source": [
    "# \\b Backspace\n",
    "\n",
    "#This example erases one character (backspace):\n",
    "txt = \"Hello \\bWorld!\"\n",
    "print(txt) \n"
   ]
  },
  {
   "cell_type": "code",
   "execution_count": 29,
   "id": "6fc5e604",
   "metadata": {},
   "outputs": [],
   "source": [
    "#\\f - form feed"
   ]
  },
  {
   "cell_type": "code",
   "execution_count": 30,
   "id": "1b8020d6",
   "metadata": {},
   "outputs": [
    {
     "name": "stdout",
     "output_type": "stream",
     "text": [
      "Hello\n"
     ]
    }
   ],
   "source": [
    "#\\ooo -octal value\n",
    "\n",
    "#A backslash followed by three integers will result in a octal value:\n",
    "txt = \"\\110\\145\\154\\154\\157\"\n",
    "print(txt) \n"
   ]
  },
  {
   "cell_type": "code",
   "execution_count": 31,
   "id": "31b89c1b",
   "metadata": {},
   "outputs": [
    {
     "name": "stdout",
     "output_type": "stream",
     "text": [
      "Hello\n"
     ]
    }
   ],
   "source": [
    "#\\xhh - Hex value\n",
    "\n",
    "#A backslash followed by an 'x' and a hex number represents a hex value:\n",
    "txt = \"\\x48\\x65\\x6c\\x6c\\x6f\"\n",
    "print(txt) "
   ]
  },
  {
   "cell_type": "markdown",
   "id": "49064857",
   "metadata": {},
   "source": [
    "Source - w3 schools and Geeks for Geeks"
   ]
  },
  {
   "cell_type": "markdown",
   "id": "8b41bfa2",
   "metadata": {},
   "source": [
    "### 3. Formating strings (integers, floats)\n",
    "\n",
    "1. Integers such as Binary, hexadecimal, etc., and floats can be rounded or displayed in the exponent form with the use of format specifiers.  "
   ]
  },
  {
   "cell_type": "code",
   "execution_count": 34,
   "id": "d7273075",
   "metadata": {},
   "outputs": [
    {
     "name": "stdout",
     "output_type": "stream",
     "text": [
      "\n",
      "Binary representation of 10 is \n",
      "1010\n"
     ]
    }
   ],
   "source": [
    "#Formatting integers\n",
    "\n",
    "String1 = \"{0:b}\".format(10) \n",
    "print(\"\\nBinary representation of 10 is \") \n",
    "print(String1) "
   ]
  },
  {
   "cell_type": "code",
   "execution_count": 35,
   "id": "49a65933",
   "metadata": {},
   "outputs": [
    {
     "name": "stdout",
     "output_type": "stream",
     "text": [
      "\n",
      "Exponent representation of 165.6458 is \n",
      "1.656458e+02\n"
     ]
    }
   ],
   "source": [
    "# Formatting of Floats \n",
    "String1 = \"{0:e}\".format(165.6458) \n",
    "print(\"\\nExponent representation of 165.6458 is \") \n",
    "print(String1) "
   ]
  },
  {
   "cell_type": "code",
   "execution_count": 36,
   "id": "099c5ade",
   "metadata": {},
   "outputs": [
    {
     "name": "stdout",
     "output_type": "stream",
     "text": [
      "\n",
      "one-sixth is : \n",
      "0.17\n"
     ]
    }
   ],
   "source": [
    "# Rounding off Integers \n",
    "String1 = \"{0:.2f}\".format(1/6) \n",
    "print(\"\\none-sixth is : \") \n",
    "print(String1) "
   ]
  },
  {
   "cell_type": "markdown",
   "id": "a5f168fe",
   "metadata": {},
   "source": [
    "### 3.1 String aligning \n",
    "1. A string can be left, right, or center aligned with the use of format specifiers, separated by a colon(:). \n",
    "2. The (<) indicates that the string should be aligned to the left, (>) indicates that the string should be aligned to the right and (^) indicates that the string should be aligned to the center. \n",
    "3. We can also specify the length in which it should be aligned."
   ]
  },
  {
   "cell_type": "code",
   "execution_count": 37,
   "id": "90c0fd51",
   "metadata": {},
   "outputs": [
    {
     "name": "stdout",
     "output_type": "stream",
     "text": [
      "\n",
      "Left, center and right alignment with Formatting: \n",
      "|Hello     |  world   |   welcome|\n"
     ]
    }
   ],
   "source": [
    "# String alignment \n",
    "String1 = \"|{:<10}|{:^10}|{:>10}|\".format('Hello', \n",
    "                                          'world',  \n",
    "                                          'welcome') \n",
    "print(\"\\nLeft, center and right alignment with Formatting: \") \n",
    "print(String1) "
   ]
  },
  {
   "cell_type": "code",
   "execution_count": 44,
   "id": "7246cf1e",
   "metadata": {},
   "outputs": [
    {
     "name": "stdout",
     "output_type": "stream",
     "text": [
      "\n",
      "Python programming was founded in 1991!\n"
     ]
    }
   ],
   "source": [
    "# To demonstrate aligning of spaces \n",
    "String1 = \"\\n{0:^16} was founded in {1:<4}!\".format(\"Python programming\", \n",
    "                                                    1991) \n",
    "print(String1) "
   ]
  },
  {
   "cell_type": "markdown",
   "id": "829caed3",
   "metadata": {},
   "source": [
    "#### 3.3 Formatting using %\n",
    "\n"
   ]
  },
  {
   "cell_type": "code",
   "execution_count": 45,
   "id": "8db1b13e",
   "metadata": {},
   "outputs": [
    {
     "name": "stdout",
     "output_type": "stream",
     "text": [
      "Formatting in 3.2f format: \n",
      "The value of Integer1 is 12.35\n",
      "\n",
      "Formatting in 3.4f format: \n",
      "The value of Integer1 is 12.3457\n"
     ]
    }
   ],
   "source": [
    "Integer1 = 12.3456789\n",
    "print(\"Formatting in 3.2f format: \") \n",
    "print('The value of Integer1 is %3.2f' % Integer1) \n",
    "print(\"\\nFormatting in 3.4f format: \") \n",
    "print('The value of Integer1 is %3.4f' % Integer1) "
   ]
  },
  {
   "cell_type": "markdown",
   "id": "1df3ff62",
   "metadata": {},
   "source": [
    "### 4. Reversing a String\n",
    "\n",
    "1. There is no built-in function to reverse strings in python\n",
    "\n",
    "2. The fastest way is to use a slice that steps backwards, -1.\n",
    "    "
   ]
  },
  {
   "cell_type": "code",
   "execution_count": 46,
   "id": "b6e840a1",
   "metadata": {},
   "outputs": [
    {
     "name": "stdout",
     "output_type": "stream",
     "text": [
      "olleh\n"
     ]
    }
   ],
   "source": [
    "#using a slice\n",
    "\n",
    "str1 = \"hello\"[::-1]\n",
    "print(str1)\n",
    "\n",
    "#In this  example, the slice statement [::-1] means start at the end of the string\n",
    "#and end at position 0, move with the step -1, negative one, which means one step backwards."
   ]
  },
  {
   "cell_type": "code",
   "execution_count": 48,
   "id": "e256bb2e",
   "metadata": {},
   "outputs": [
    {
     "data": {
      "text/plain": [
       "'llew sdne taht llew si llA'"
      ]
     },
     "execution_count": 48,
     "metadata": {},
     "output_type": "execute_result"
    }
   ],
   "source": [
    "# reverse a string using function \n",
    "\n",
    "def reversing(x): #create a fn named recursive which will take an argument x as string\n",
    "    return x[::-1] #perform the slicing \n",
    "\n",
    "str1 = reversing(\"All is well that ends well\") #call the function with the string as parameter\n",
    "str1 #print the string"
   ]
  },
  {
   "cell_type": "code",
   "execution_count": 49,
   "id": "07bd60c3",
   "metadata": {},
   "outputs": [
    {
     "data": {
      "text/plain": [
       "'llew sdne taht llew si llA'"
      ]
     },
     "execution_count": 49,
     "metadata": {},
     "output_type": "execute_result"
    }
   ],
   "source": [
    "# reverse a string using loop. \n",
    "\n",
    "#we call a function to reverse a string, which iterates to every element \n",
    "#and intelligently joins each character in the beginning so as to obtain the reversed string. \n",
    "\n",
    "def reversing(x):\n",
    "    str = \"\"\n",
    "    for i in x:\n",
    "        str = i+str\n",
    "    return str\n",
    "\n",
    "x = \"All is well that ends well\"\n",
    "reversing(x)"
   ]
  },
  {
   "cell_type": "code",
   "execution_count": 5,
   "id": "98f518c1",
   "metadata": {},
   "outputs": [
    {
     "data": {
      "text/plain": [
       "'llew sdne taht llew si llA'"
      ]
     },
     "execution_count": 5,
     "metadata": {},
     "output_type": "execute_result"
    }
   ],
   "source": [
    "#reversing using recursion\n",
    "\n",
    "\"\"\"The string is passed as an argument to a recursive function to reverse the string.\n",
    "In the function, the base condition is that if the length of the string is equal to 0, the string is returned.\n",
    "If not equal to 0, the reverse function is recursively called to slice the part of the string except\n",
    "the first character and concatenate the first character to the end of the sliced string. \"\"\"\n",
    "\n",
    "def reverse(s):\n",
    "    if len(s) == 0:\n",
    "        return s\n",
    "    else:\n",
    "        return reverse(s[1:]) + s[0]\n",
    " \n",
    " \n",
    "s = \"All is well that ends well\"\n",
    "reverse(s) "
   ]
  },
  {
   "cell_type": "code",
   "execution_count": 6,
   "id": "0da10701",
   "metadata": {},
   "outputs": [
    {
     "data": {
      "text/plain": [
       "'llew sdne taht llew si llA'"
      ]
     },
     "execution_count": 6,
     "metadata": {},
     "output_type": "execute_result"
    }
   ],
   "source": [
    "# reversing using reversed() method\n",
    "\"\"\"The reversed() returns the reversed iterator of the given string and then its elements are joined\n",
    "empty string separated using join(). \"\"\"\n",
    "\n",
    "def reverse(string):\n",
    "    string = \"\".join(reversed(string))\n",
    "    return string\n",
    " \n",
    "s = \"All is well that ends well\"\n",
    " \n",
    "reverse(s)"
   ]
  },
  {
   "cell_type": "markdown",
   "id": "51e890ec",
   "metadata": {},
   "source": [
    "### 5. Commonly used String methods\n",
    "\n",
    "1. Python has a list of built-in methods to be used on strings.\n",
    "\n",
    "2. All string methods return new values. They do not change the original string"
   ]
  },
  {
   "cell_type": "markdown",
   "id": "c7d3c7cb",
   "metadata": {},
   "source": [
    "#### 5.1 count() - Returns the number of times a specified value occurs in a string"
   ]
  },
  {
   "cell_type": "code",
   "execution_count": 9,
   "id": "457e5fdb",
   "metadata": {},
   "outputs": [
    {
     "data": {
      "text/plain": [
       "2"
      ]
     },
     "execution_count": 9,
     "metadata": {},
     "output_type": "execute_result"
    }
   ],
   "source": [
    "a = \"apple pie is good for health apple is healthy\"\n",
    "a.count('apple')"
   ]
  },
  {
   "cell_type": "markdown",
   "id": "e234d316",
   "metadata": {},
   "source": [
    "#### 5.2 find() - Searches the string for a specified value and returns the position of where it was found"
   ]
  },
  {
   "cell_type": "code",
   "execution_count": 10,
   "id": "adac747d",
   "metadata": {},
   "outputs": [
    {
     "name": "stdout",
     "output_type": "stream",
     "text": [
      "7\n"
     ]
    }
   ],
   "source": [
    "txt = \"Hello, welcome to my world.\"\n",
    "\n",
    "x = txt.find(\"welcome\")\n",
    "\n",
    "print(x)"
   ]
  },
  {
   "cell_type": "markdown",
   "id": "a0fc7c68",
   "metadata": {},
   "source": [
    "#### 5.3 index() - Searches the string for a specified value and returns the position of where it was found\n"
   ]
  },
  {
   "cell_type": "code",
   "execution_count": 11,
   "id": "9a217134",
   "metadata": {},
   "outputs": [
    {
     "data": {
      "text/plain": [
       "1"
      ]
     },
     "execution_count": 11,
     "metadata": {},
     "output_type": "execute_result"
    }
   ],
   "source": [
    "str1 = \"python\"\n",
    "str1.index('y')"
   ]
  },
  {
   "cell_type": "markdown",
   "id": "60582835",
   "metadata": {},
   "source": [
    "#### 5.4 join() - Converts elements of an iterable to string\n"
   ]
  },
  {
   "cell_type": "code",
   "execution_count": 15,
   "id": "c88be3f9",
   "metadata": {},
   "outputs": [
    {
     "name": "stdout",
     "output_type": "stream",
     "text": [
      "John,Peter,Vicky\n"
     ]
    }
   ],
   "source": [
    "a = (\"John\", \"Peter\", \"Vicky\")\n",
    "\n",
    "x = \",\".join(a)\n",
    "\n",
    "print(x)"
   ]
  },
  {
   "cell_type": "markdown",
   "id": "08c12dc5",
   "metadata": {},
   "source": [
    "#### 5.5 lower() - Converts a string into lower case\n"
   ]
  },
  {
   "cell_type": "code",
   "execution_count": 16,
   "id": "5fc210f8",
   "metadata": {},
   "outputs": [
    {
     "data": {
      "text/plain": [
       "'hello'"
      ]
     },
     "execution_count": 16,
     "metadata": {},
     "output_type": "execute_result"
    }
   ],
   "source": [
    "a = \"HELLO\"\n",
    "a.lower()"
   ]
  },
  {
   "cell_type": "markdown",
   "id": "fe546b28",
   "metadata": {},
   "source": [
    "#### 5.6 replace() - Returns a string where a specified value is replaced with a specified value"
   ]
  },
  {
   "cell_type": "code",
   "execution_count": 19,
   "id": "f811d8c8",
   "metadata": {},
   "outputs": [
    {
     "data": {
      "text/plain": [
       "'hello'"
      ]
     },
     "execution_count": 19,
     "metadata": {},
     "output_type": "execute_result"
    }
   ],
   "source": [
    "a = \"heilo\"\n",
    "a.replace('i','l')\n"
   ]
  },
  {
   "cell_type": "markdown",
   "id": "bbbaae31",
   "metadata": {},
   "source": [
    "#### 5.7 split() - Splits the string at the specified separator and returns a list\n"
   ]
  },
  {
   "cell_type": "code",
   "execution_count": 25,
   "id": "2e5084fa",
   "metadata": {},
   "outputs": [
    {
     "name": "stdout",
     "output_type": "stream",
     "text": [
      "['hello', 'world', 'welcome', 'to', 'python']\n"
     ]
    }
   ],
   "source": [
    "a = \"hello world welcome to python\"\n",
    "print(a.split())"
   ]
  },
  {
   "cell_type": "markdown",
   "id": "4ae2078b",
   "metadata": {},
   "source": [
    "#### 5.8 strip() - Returns a trimmed version of a string\n"
   ]
  },
  {
   "cell_type": "code",
   "execution_count": 27,
   "id": "cb0e2f7d",
   "metadata": {},
   "outputs": [
    {
     "data": {
      "text/plain": [
       "'python programming'"
      ]
     },
     "execution_count": 27,
     "metadata": {},
     "output_type": "execute_result"
    }
   ],
   "source": [
    "a = \" python programming\"  #strips the whitespace present at the beginning and end\n",
    "a.strip()"
   ]
  },
  {
   "cell_type": "markdown",
   "id": "1fa4bf06",
   "metadata": {},
   "source": [
    "#### 5.9 format() - Formats specified values in a string"
   ]
  },
  {
   "cell_type": "code",
   "execution_count": 28,
   "id": "e020c34c",
   "metadata": {},
   "outputs": [
    {
     "name": "stdout",
     "output_type": "stream",
     "text": [
      "For only 49.00 dollars!\n"
     ]
    }
   ],
   "source": [
    "txt = \"For only {price:.2f} dollars!\"\n",
    "print(txt.format(price = 49))"
   ]
  },
  {
   "cell_type": "markdown",
   "id": "f3ca1214",
   "metadata": {},
   "source": [
    "#### 5.10 upper() - Converts a string into upper case"
   ]
  },
  {
   "cell_type": "code",
   "execution_count": 29,
   "id": "dcbdcb99",
   "metadata": {},
   "outputs": [
    {
     "data": {
      "text/plain": [
       "'PYTHON PROGRAM'"
      ]
     },
     "execution_count": 29,
     "metadata": {},
     "output_type": "execute_result"
    }
   ],
   "source": [
    "str1 = 'python program'\n",
    "str1.upper()"
   ]
  }
 ],
 "metadata": {
  "kernelspec": {
   "display_name": "Python 3 (ipykernel)",
   "language": "python",
   "name": "python3"
  },
  "language_info": {
   "codemirror_mode": {
    "name": "ipython",
    "version": 3
   },
   "file_extension": ".py",
   "mimetype": "text/x-python",
   "name": "python",
   "nbconvert_exporter": "python",
   "pygments_lexer": "ipython3",
   "version": "3.10.9"
  }
 },
 "nbformat": 4,
 "nbformat_minor": 5
}
