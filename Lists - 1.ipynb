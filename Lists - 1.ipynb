{
 "cells": [
  {
   "cell_type": "markdown",
   "id": "1244796f",
   "metadata": {},
   "source": [
    "### Lists\n",
    "\n",
    "- Lists are used to store multiple items in a single variable.\n",
    "\n",
    "- List stores values inside a [] - square bracket and are separated by commas.\n",
    "\n",
    "- Lists are one of the 4 built in data types in python used to store collections of data.\n",
    "\n",
    "- Lists are mutable in nature which means the values of the list can be modified.\n",
    "\n",
    "- Lists contains multiple data types and are iterables."
   ]
  },
  {
   "cell_type": "code",
   "execution_count": 17,
   "id": "95b82bc4",
   "metadata": {},
   "outputs": [
    {
     "data": {
      "text/plain": [
       "['benz', 'bmw', 'audi']"
      ]
     },
     "execution_count": 17,
     "metadata": {},
     "output_type": "execute_result"
    }
   ],
   "source": [
    "#Example\n",
    "\n",
    "a = ['benz', 'bmw', 'audi']\n",
    "a"
   ]
  },
  {
   "cell_type": "markdown",
   "id": "a1707898",
   "metadata": {},
   "source": [
    "- List items are ordered, changeable and allows duplicates\n",
    "\n",
    "- List items can be accessed via index values.\n",
    "\n",
    "- List items are ordered, it has definite order and it will not change\n",
    "\n",
    "- Adding new items to the list will append it at the end."
   ]
  },
  {
   "cell_type": "code",
   "execution_count": 3,
   "id": "2e64dad2",
   "metadata": {},
   "outputs": [
    {
     "data": {
      "text/plain": [
       "[]"
      ]
     },
     "execution_count": 3,
     "metadata": {},
     "output_type": "execute_result"
    }
   ],
   "source": [
    "#example of a blank list\n",
    "\n",
    "list1 = []\n",
    "list1"
   ]
  },
  {
   "cell_type": "markdown",
   "id": "29299ac1",
   "metadata": {},
   "source": [
    "- List is changeable - we can perform operations like change, add or remove items from list\n",
    "\n",
    "- Lists will also allow duplicates"
   ]
  },
  {
   "cell_type": "code",
   "execution_count": 4,
   "id": "38d6fca7",
   "metadata": {},
   "outputs": [
    {
     "data": {
      "text/plain": [
       "['benz', 'audi', 'suzuki', 'volvo', 'bmw', 'audi']"
      ]
     },
     "execution_count": 4,
     "metadata": {},
     "output_type": "execute_result"
    }
   ],
   "source": [
    "#duplicates\n",
    "\n",
    "list1 = ['benz', 'audi', 'suzuki','volvo','bmw','audi']\n",
    "list1"
   ]
  },
  {
   "cell_type": "code",
   "execution_count": 5,
   "id": "b2c2c621",
   "metadata": {},
   "outputs": [
    {
     "data": {
      "text/plain": [
       "'banana'"
      ]
     },
     "execution_count": 5,
     "metadata": {},
     "output_type": "execute_result"
    }
   ],
   "source": [
    "#Accessing elements from the list - mention the index value\n",
    "\n",
    "fruits = ['apple', 'banana', 'orange']\n",
    "fruits[1]"
   ]
  },
  {
   "cell_type": "code",
   "execution_count": 11,
   "id": "8fb68e48",
   "metadata": {},
   "outputs": [
    {
     "data": {
      "text/plain": [
       "[['Python', 'Programming'], ['for', 'data science']]"
      ]
     },
     "execution_count": 11,
     "metadata": {},
     "output_type": "execute_result"
    }
   ],
   "source": [
    "#Nested list or multi-dimensional list - list within a list\n",
    "\n",
    "list1 = [['Python', 'Programming'], ['for', 'data science']]\n",
    "list1"
   ]
  },
  {
   "cell_type": "code",
   "execution_count": 12,
   "id": "950bdfae",
   "metadata": {},
   "outputs": [
    {
     "data": {
      "text/plain": [
       "'Programming'"
      ]
     },
     "execution_count": 12,
     "metadata": {},
     "output_type": "execute_result"
    }
   ],
   "source": [
    "#accessing elements from a multidimensional list\n",
    "\n",
    "list1[0][1] # 0 states the first list and 1 states the position \n"
   ]
  },
  {
   "cell_type": "code",
   "execution_count": 13,
   "id": "013bf7f1",
   "metadata": {},
   "outputs": [
    {
     "data": {
      "text/plain": [
       "'for'"
      ]
     },
     "execution_count": 13,
     "metadata": {},
     "output_type": "execute_result"
    }
   ],
   "source": [
    "list1[1][0] # 1 states the 2nd list and 0 states the position"
   ]
  },
  {
   "cell_type": "code",
   "execution_count": 14,
   "id": "b5aa016a",
   "metadata": {},
   "outputs": [
    {
     "data": {
      "text/plain": [
       "10.0"
      ]
     },
     "execution_count": 14,
     "metadata": {},
     "output_type": "execute_result"
    }
   ],
   "source": [
    "#Negative indexing - represents positions from the end.\n",
    "\n",
    "list2 = ['apple','orange','kiwi',40,70,10.0]\n",
    "list2[-1]"
   ]
  },
  {
   "cell_type": "markdown",
   "id": "a85cbbc1",
   "metadata": {},
   "source": [
    "### 1. List size or length \n",
    "\n",
    "- To know the number of items in the list len() function is used\n",
    "\n",
    "- len() is used to get the length of the list\n"
   ]
  },
  {
   "cell_type": "code",
   "execution_count": 15,
   "id": "9cd26cce",
   "metadata": {},
   "outputs": [
    {
     "data": {
      "text/plain": [
       "6"
      ]
     },
     "execution_count": 15,
     "metadata": {},
     "output_type": "execute_result"
    }
   ],
   "source": [
    "a = ['cars', 'fruits', 10,80,300,'italy']\n",
    "len(a)"
   ]
  },
  {
   "cell_type": "markdown",
   "id": "0efc1653",
   "metadata": {},
   "source": [
    "### 2.Data type of list\n",
    "\n",
    "- List can have any data type be it string, int, float\n",
    "\n",
    "- The data type can be accessed by using type()"
   ]
  },
  {
   "cell_type": "code",
   "execution_count": 21,
   "id": "330ee457",
   "metadata": {},
   "outputs": [
    {
     "name": "stdout",
     "output_type": "stream",
     "text": [
      "['peacock', 'nightingale', 14, 24, 'italy']\n",
      "<class 'list'>\n"
     ]
    }
   ],
   "source": [
    "list1 = ['peacock', 'nightingale', 14, 24, 'italy']\n",
    "print(list1)\n",
    "print(type(list1))"
   ]
  },
  {
   "cell_type": "markdown",
   "id": "314758fd",
   "metadata": {},
   "source": [
    "### 3. List constructor\n",
    "\n",
    "- list() constructor can also be used to create a list and the values should be enclosed in (()) (double round brackets)"
   ]
  },
  {
   "cell_type": "code",
   "execution_count": 24,
   "id": "5e4860ab",
   "metadata": {},
   "outputs": [
    {
     "data": {
      "text/plain": [
       "['a', 'b', 'c', 1, 2, 3]"
      ]
     },
     "execution_count": 24,
     "metadata": {},
     "output_type": "execute_result"
    }
   ],
   "source": [
    "list1 = list(('a','b','c',1,2,3))\n",
    "list1"
   ]
  },
  {
   "cell_type": "markdown",
   "id": "5708f59e",
   "metadata": {},
   "source": [
    "### 4. Range of indexes\n",
    "\n",
    "- We can specify a range of indexes by mentioning the start and end point\n",
    "\n",
    "- When specifying the range, the return value will be a new list with the specified items."
   ]
  },
  {
   "cell_type": "code",
   "execution_count": 27,
   "id": "7c6b0fca",
   "metadata": {},
   "outputs": [
    {
     "data": {
      "text/plain": [
       "['kiwi', 10, 20, 30, 250.67]"
      ]
     },
     "execution_count": 27,
     "metadata": {},
     "output_type": "execute_result"
    }
   ],
   "source": [
    "list1 = ['apple','kiwi',10,20,30,250.67,'cars','countries']\n",
    "list1[1:6]  #includes start value excludes end value. n = n-1 (6-1=5 prints until 5th position)"
   ]
  },
  {
   "cell_type": "code",
   "execution_count": 30,
   "id": "c2cefce7",
   "metadata": {},
   "outputs": [
    {
     "data": {
      "text/plain": [
       "[30, 250.67, 'cars']"
      ]
     },
     "execution_count": 30,
     "metadata": {},
     "output_type": "execute_result"
    }
   ],
   "source": [
    "#negative indexes\n",
    "\n",
    "list1 = ['apple','kiwi',10,20,30,250.67,'cars','countries']\n",
    "list1[-4:-1]  #excludes (-1th position)"
   ]
  },
  {
   "cell_type": "markdown",
   "id": "78dda0d4",
   "metadata": {},
   "source": [
    "### 5. Check if item exists\n",
    "\n",
    "- To check whether the given item is present in the list use in keyword\n"
   ]
  },
  {
   "cell_type": "code",
   "execution_count": 31,
   "id": "8fe74367",
   "metadata": {},
   "outputs": [
    {
     "name": "stdout",
     "output_type": "stream",
     "text": [
      "True\n"
     ]
    }
   ],
   "source": [
    "fruits = ['apple','kiwi','orange','banana']\n",
    "print('apple' in fruits)"
   ]
  },
  {
   "cell_type": "markdown",
   "id": "a34860e1",
   "metadata": {},
   "source": [
    "### 6. Change list items\n",
    "\n",
    "- To change the items in the list use the index value"
   ]
  },
  {
   "cell_type": "code",
   "execution_count": 32,
   "id": "6bf72716",
   "metadata": {},
   "outputs": [
    {
     "data": {
      "text/plain": [
       "['benz', 'audi', 'bmw', 'volvo']"
      ]
     },
     "execution_count": 32,
     "metadata": {},
     "output_type": "execute_result"
    }
   ],
   "source": [
    "cars = ['benz','audi','bmw','suzuki']\n",
    "cars[3] = 'volvo'\n",
    "cars"
   ]
  },
  {
   "cell_type": "markdown",
   "id": "30f54715",
   "metadata": {},
   "source": [
    "#### 6.1 Change a range of item values \n",
    "\n",
    "- To change the value of items within a specific range, define a list with the new values, and refer to the range of index numbers where you want to insert the new values"
   ]
  },
  {
   "cell_type": "code",
   "execution_count": 33,
   "id": "53de22d4",
   "metadata": {},
   "outputs": [
    {
     "data": {
      "text/plain": [
       "['iceland', 'finland', 'usa', 'india', 'australia', 'newzealand', 'germany']"
      ]
     },
     "execution_count": 33,
     "metadata": {},
     "output_type": "execute_result"
    }
   ],
   "source": [
    "list2 = ['italy','uk','usa','india','australia','newzealand','germany']\n",
    "list2[0:2] = 'iceland', 'finland'\n",
    "list2"
   ]
  },
  {
   "cell_type": "markdown",
   "id": "78a2c8c2",
   "metadata": {},
   "source": [
    "### 7. Insert items in a list\n",
    "\n",
    "- To insert a new list item, without replacing any of the existing values, we can use the insert() method at a specified index"
   ]
  },
  {
   "cell_type": "code",
   "execution_count": 42,
   "id": "8fe71512",
   "metadata": {},
   "outputs": [
    {
     "name": "stdout",
     "output_type": "stream",
     "text": [
      "['benz', 'volvo', 'audi', 'suzuki']\n"
     ]
    }
   ],
   "source": [
    "cars = ['benz','volvo','audi']\n",
    "cars.insert(4,'suzuki')\n",
    "print(cars)"
   ]
  },
  {
   "cell_type": "markdown",
   "id": "a39d3d14",
   "metadata": {},
   "source": [
    "### 8. Add List Items\n",
    "\n",
    "#### 8.1. Append()\n",
    "\n",
    "- Append() method adds items to the end of the list"
   ]
  },
  {
   "cell_type": "code",
   "execution_count": 44,
   "id": "0048a7de",
   "metadata": {},
   "outputs": [
    {
     "data": {
      "text/plain": [
       "['benz', 'bmw', 'audi', 'volvo', 'suzuki']"
      ]
     },
     "execution_count": 44,
     "metadata": {},
     "output_type": "execute_result"
    }
   ],
   "source": [
    "cars = ['benz','bmw','audi','volvo']\n",
    "cars.append('suzuki')\n",
    "cars"
   ]
  },
  {
   "cell_type": "markdown",
   "id": "5a720ee2",
   "metadata": {},
   "source": [
    "#### 8.2. Extend()\n",
    "\n",
    "- To append items from another list to a current list extend() method is used.\n",
    "\n",
    "- Elements will be added to the end of the list\n",
    "\n",
    "- The extend() method does not have to append lists, you can add any iterable object (tuples, sets, dictionaries etc.)."
   ]
  },
  {
   "cell_type": "code",
   "execution_count": 46,
   "id": "30af9155",
   "metadata": {},
   "outputs": [
    {
     "data": {
      "text/plain": [
       "['apple', 'banana', 14, 24, 1, 23]"
      ]
     },
     "execution_count": 46,
     "metadata": {},
     "output_type": "execute_result"
    }
   ],
   "source": [
    "#example 1\n",
    "list1=['apple','banana',14,24]\n",
    "list1.extend([1,23])\n",
    "list1"
   ]
  },
  {
   "cell_type": "code",
   "execution_count": 50,
   "id": "94ba7be8",
   "metadata": {},
   "outputs": [
    {
     "name": "stdout",
     "output_type": "stream",
     "text": [
      "['benz', 'audi', 'bmw', 'volvo', 'rangerover']\n"
     ]
    }
   ],
   "source": [
    "#example 2 - adding any iterable\n",
    "\n",
    "\n",
    "list1 = ['benz','audi','bmw']\n",
    "tuple1 = ('volvo','rangerover')\n",
    "list1.extend(tuple1)\n",
    "print(list1)"
   ]
  },
  {
   "cell_type": "code",
   "execution_count": 51,
   "id": "4770d663",
   "metadata": {},
   "outputs": [
    {
     "name": "stdout",
     "output_type": "stream",
     "text": [
      "['apple', 'banana', 'orange', 'potato', 'tomato', 'onion']\n"
     ]
    }
   ],
   "source": [
    "#addding items from one list to another\n",
    "\n",
    "fruits = ['apple','banana','orange']\n",
    "veggies = ['potato','tomato','onion']\n",
    "fruits.extend(veggies)\n",
    "print(fruits)"
   ]
  },
  {
   "cell_type": "markdown",
   "id": "be4a2797",
   "metadata": {},
   "source": [
    "### 9. Remove List items\n",
    "\n",
    "#### 9.1. Remove Specific item\n",
    "\n",
    "- remove() method removes specific item from the list\n",
    "\n",
    "- If the list contains duplicates then the first occurance of the value will be deleted"
   ]
  },
  {
   "cell_type": "code",
   "execution_count": 52,
   "id": "e68e2450",
   "metadata": {},
   "outputs": [
    {
     "data": {
      "text/plain": [
       "['apple', 'mango', 'orange']"
      ]
     },
     "execution_count": 52,
     "metadata": {},
     "output_type": "execute_result"
    }
   ],
   "source": [
    "fruits = ['apple','mango','orange','banana']\n",
    "fruits.remove('banana')\n",
    "fruits"
   ]
  },
  {
   "cell_type": "markdown",
   "id": "2f6425bf",
   "metadata": {},
   "source": [
    "#### 9.2. Remove Specified index\n",
    "\n",
    "- pop() method is used the item from specified index value\n",
    "\n",
    "- If index value is not mentioned then the last item will be removed"
   ]
  },
  {
   "cell_type": "code",
   "execution_count": 54,
   "id": "f6e1653a",
   "metadata": {},
   "outputs": [
    {
     "data": {
      "text/plain": [
       "['benz', 'audi', 14, 24, 4556]"
      ]
     },
     "execution_count": 54,
     "metadata": {},
     "output_type": "execute_result"
    }
   ],
   "source": [
    "#with specifying index value\n",
    "cars = ['benz','audi','rangerover',14,24,4556]\n",
    "cars.pop(2)\n",
    "cars"
   ]
  },
  {
   "cell_type": "code",
   "execution_count": 55,
   "id": "3116b2c7",
   "metadata": {},
   "outputs": [
    {
     "data": {
      "text/plain": [
       "['benz', 'audi', 'rangerover', 14, 24]"
      ]
     },
     "execution_count": 55,
     "metadata": {},
     "output_type": "execute_result"
    }
   ],
   "source": [
    "#without specifying index value\n",
    "cars = ['benz','audi','rangerover',14,24,4556]\n",
    "cars.pop()\n",
    "cars"
   ]
  },
  {
   "cell_type": "markdown",
   "id": "fc8b50cc",
   "metadata": {},
   "source": [
    "#### 9.3. Remove specified index\n",
    "\n",
    "- del keyword can also be used to remove the item from specified index\n",
    "\n",
    "- del keyword will also delete the complete list."
   ]
  },
  {
   "cell_type": "code",
   "execution_count": 56,
   "id": "6b0d5333",
   "metadata": {},
   "outputs": [
    {
     "data": {
      "text/plain": [
       "['benz', 'rangerover', 14, 24, 4556]"
      ]
     },
     "execution_count": 56,
     "metadata": {},
     "output_type": "execute_result"
    }
   ],
   "source": [
    "cars = ['benz','audi','rangerover',14,24,4556]\n",
    "del cars[1]\n",
    "cars"
   ]
  },
  {
   "cell_type": "code",
   "execution_count": 57,
   "id": "ea7c2b96",
   "metadata": {},
   "outputs": [
    {
     "ename": "NameError",
     "evalue": "name 'cars' is not defined",
     "output_type": "error",
     "traceback": [
      "\u001b[1;31m---------------------------------------------------------------------------\u001b[0m",
      "\u001b[1;31mNameError\u001b[0m                                 Traceback (most recent call last)",
      "Cell \u001b[1;32mIn[57], line 5\u001b[0m\n\u001b[0;32m      3\u001b[0m cars \u001b[38;5;241m=\u001b[39m [\u001b[38;5;124m'\u001b[39m\u001b[38;5;124mbenz\u001b[39m\u001b[38;5;124m'\u001b[39m,\u001b[38;5;124m'\u001b[39m\u001b[38;5;124maudi\u001b[39m\u001b[38;5;124m'\u001b[39m]\n\u001b[0;32m      4\u001b[0m \u001b[38;5;28;01mdel\u001b[39;00m cars\n\u001b[1;32m----> 5\u001b[0m \u001b[43mcars\u001b[49m\n",
      "\u001b[1;31mNameError\u001b[0m: name 'cars' is not defined"
     ]
    }
   ],
   "source": [
    "#del keyword to delete the complete list\n",
    "\n",
    "cars = ['benz','audi']\n",
    "del cars\n",
    "cars"
   ]
  },
  {
   "cell_type": "markdown",
   "id": "19786b0d",
   "metadata": {},
   "source": [
    "### 10.Clear the List\n",
    "\n",
    "- To empty the list clear() method is used\n",
    "\n",
    "- The list will remain but the contents will be cleared"
   ]
  },
  {
   "cell_type": "code",
   "execution_count": 58,
   "id": "596c65d1",
   "metadata": {},
   "outputs": [
    {
     "data": {
      "text/plain": [
       "[]"
      ]
     },
     "execution_count": 58,
     "metadata": {},
     "output_type": "execute_result"
    }
   ],
   "source": [
    "veggies = ['tomato', 'potato', 'peas']\n",
    "veggies.clear()\n",
    "veggies"
   ]
  },
  {
   "cell_type": "markdown",
   "id": "f9ea3e42",
   "metadata": {},
   "source": [
    "### 11. Reversing a list  - \n",
    "\n",
    "#### 11.1 reverse() method\n",
    "\n",
    "- A list can be reversed by using reverse() method"
   ]
  },
  {
   "cell_type": "code",
   "execution_count": 61,
   "id": "318983d9",
   "metadata": {},
   "outputs": [
    {
     "data": {
      "text/plain": [
       "['McD', 'BC', 'TT', 29, 24, 14]"
      ]
     },
     "execution_count": 61,
     "metadata": {},
     "output_type": "execute_result"
    }
   ],
   "source": [
    "list1 = [14,24,29,'TT','BC','McD']\n",
    "list1.reverse()\n",
    "list1"
   ]
  },
  {
   "cell_type": "markdown",
   "id": "f76d0203",
   "metadata": {},
   "source": [
    "#### 11.2 reversed()\n",
    "\n",
    "- reversed() function returns a reverse iterator, which can be converted to list using list() function."
   ]
  },
  {
   "cell_type": "code",
   "execution_count": 65,
   "id": "000d997e",
   "metadata": {},
   "outputs": [
    {
     "data": {
      "text/plain": [
       "['McD', 'BC', 'TT', 29, 24, 14]"
      ]
     },
     "execution_count": 65,
     "metadata": {},
     "output_type": "execute_result"
    }
   ],
   "source": [
    "list1 = [14,24,29,'TT','BC','McD']\n",
    "list2 = list(reversed(list1))\n",
    "list2"
   ]
  }
 ],
 "metadata": {
  "kernelspec": {
   "display_name": "Python 3 (ipykernel)",
   "language": "python",
   "name": "python3"
  },
  "language_info": {
   "codemirror_mode": {
    "name": "ipython",
    "version": 3
   },
   "file_extension": ".py",
   "mimetype": "text/x-python",
   "name": "python",
   "nbconvert_exporter": "python",
   "pygments_lexer": "ipython3",
   "version": "3.10.9"
  }
 },
 "nbformat": 4,
 "nbformat_minor": 5
}
