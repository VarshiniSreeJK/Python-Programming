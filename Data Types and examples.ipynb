{
 "cells": [
  {
   "cell_type": "markdown",
   "id": "c86182ec",
   "metadata": {},
   "source": [
    "### Python data types\n",
    "\n",
    "Python has the following built-in data types\n",
    "\n",
    "1. Text Type\n",
    "2. Numeric Type\n",
    "3. Sequence Type\n",
    "4. Mapping Type\n",
    "5. Set Type\n",
    "6. Boolean Type\n",
    "7. Binary Type and\n",
    "8. None Type \n"
   ]
  },
  {
   "attachments": {
    "Screenshot%202023-10-25%20201644.jpg": {
     "image/jpeg": "[encoded data removed]"
    }
   },
   "cell_type": "markdown",
   "id": "a0af1a25",
   "metadata": {},
   "source": [
    "## Data Types\n",
    "![Screenshot%202023-10-25%20201644.jpg](attachment:Screenshot%202023-10-25%20201644.jpg)"
   ]
  },
  {
   "cell_type": "markdown",
   "id": "fcda3a11",
   "metadata": {},
   "source": [
    "### Python Numbers\n",
    "\n",
    "1. int - whole number, positive or negative without decimals\n",
    "2. float - floating point number, positive or negative, have one or more decimals\n",
    "        Can be scientific numbers with an 'e' to indicate the power value of 10\n",
    "3. complex - (real and imaginary) python uses j for imaginary."
   ]
  },
  {
   "cell_type": "code",
   "execution_count": 2,
   "id": "93ed809f",
   "metadata": {},
   "outputs": [
    {
     "name": "stdout",
     "output_type": "stream",
     "text": [
      "<class 'int'> 10\n",
      "<class 'float'> 5.9\n",
      "<class 'float'> 10000.0\n",
      "<class 'complex'> (1+2j)\n"
     ]
    }
   ],
   "source": [
    "x = 10 #int\n",
    "y = 5.9 #float\n",
    "z = 10e3 #float with power\n",
    "a = 1+2j\n",
    "print(type(x),x)\n",
    "print(type(y),y)\n",
    "print(type(z),z)\n",
    "print(type(a),a)"
   ]
  },
  {
   "cell_type": "markdown",
   "id": "0cce0963",
   "metadata": {},
   "source": [
    "### Type Conversion\n",
    "\n",
    "To convert from one data type to another type conversion is used by int(), float() and complex() methods\n"
   ]
  },
  {
   "cell_type": "code",
   "execution_count": 3,
   "id": "e7425743",
   "metadata": {},
   "outputs": [
    {
     "name": "stdout",
     "output_type": "stream",
     "text": [
      "2.0\n"
     ]
    }
   ],
   "source": [
    "x = 2\n",
    "y = float(x)\n",
    "print(y)   #similar method is applicable for int() and complex()"
   ]
  },
  {
   "cell_type": "markdown",
   "id": "3342cf4e",
   "metadata": {},
   "source": [
    "### Random Numbers\n",
    "\n",
    "A built-in module random is used to generate random numbers.\n",
    "\n",
    "Note:\n",
    "1. Each time the code is executed random numbers tend to change.\n",
    "\n",
    "2. To generate the same random numbers seed() function is used. \n",
    "\n"
   ]
  },
  {
   "cell_type": "code",
   "execution_count": 4,
   "id": "29bb11f8",
   "metadata": {},
   "outputs": [
    {
     "name": "stdout",
     "output_type": "stream",
     "text": [
      "7\n"
     ]
    }
   ],
   "source": [
    "#Example without seed()\n",
    "\n",
    "import random\n",
    "print(random.randrange(1,10)) #random number between 1-10 will be displayed for each execution"
   ]
  },
  {
   "cell_type": "code",
   "execution_count": 6,
   "id": "7443c5ab",
   "metadata": {},
   "outputs": [
    {
     "name": "stdout",
     "output_type": "stream",
     "text": [
      "5\n"
     ]
    }
   ],
   "source": [
    "#Example without seed()\n",
    "\n",
    "import random\n",
    "print(random.randrange(1,10)) #random number between 1-10 will be displayed for each execution"
   ]
  },
  {
   "cell_type": "code",
   "execution_count": 7,
   "id": "f3963367",
   "metadata": {},
   "outputs": [
    {
     "name": "stdout",
     "output_type": "stream",
     "text": [
      "4\n"
     ]
    }
   ],
   "source": [
    "#Example without seed()\n",
    "\n",
    "import random\n",
    "print(random.randrange(1,10)) #random number between 1-10 will be displayed for each execution"
   ]
  },
  {
   "cell_type": "code",
   "execution_count": 8,
   "id": "7e238a81",
   "metadata": {},
   "outputs": [
    {
     "name": "stdout",
     "output_type": "stream",
     "text": [
      "0.9056396761745207\n"
     ]
    }
   ],
   "source": [
    "#With seed() function. Will be discussed in detail later\n",
    "\n",
    "random.seed(20)\n",
    "print(random.random())"
   ]
  },
  {
   "cell_type": "markdown",
   "id": "f775b13a",
   "metadata": {},
   "source": [
    "### Boolean is a subtype of integers\n",
    "\n",
    "A boolean number has only two possible values- True or False which corresponds to integer value 1 or 0\n",
    "\n"
   ]
  },
  {
   "cell_type": "code",
   "execution_count": 10,
   "id": "97914ffd",
   "metadata": {},
   "outputs": [
    {
     "data": {
      "text/plain": [
       "bool"
      ]
     },
     "execution_count": 10,
     "metadata": {},
     "output_type": "execute_result"
    }
   ],
   "source": [
    "type(True)"
   ]
  },
  {
   "cell_type": "code",
   "execution_count": 11,
   "id": "da99f8f8",
   "metadata": {},
   "outputs": [
    {
     "data": {
      "text/plain": [
       "bool"
      ]
     },
     "execution_count": 11,
     "metadata": {},
     "output_type": "execute_result"
    }
   ],
   "source": [
    "type(False)"
   ]
  },
  {
   "cell_type": "markdown",
   "id": "8f7a7df6",
   "metadata": {},
   "source": [
    "### Python Sequence data types\n",
    "\n",
    "   A. Sequence is a collection data type. It is an ordered collection of items.\n",
    "   \n",
    "   B. Items in the sequence have a positional index starting with 0.\n",
    "\n",
    "Sequence data types\n",
    "1. String \n",
    "2. List \n",
    "3. Tuple"
   ]
  },
  {
   "cell_type": "markdown",
   "id": "dd85b1ad",
   "metadata": {},
   "source": [
    "### Strings\n",
    "\n",
    "1. Strings in python are enclosed inside '' or \"\".\n",
    "\n",
    "2. Python strings are immutable.\n",
    "\n",
    "3. A string in python is an object of str class.\n",
    "\n"
   ]
  },
  {
   "cell_type": "code",
   "execution_count": 13,
   "id": "33f64e2e",
   "metadata": {},
   "outputs": [
    {
     "name": "stdout",
     "output_type": "stream",
     "text": [
      "Hello\n",
      "Hello\n"
     ]
    }
   ],
   "source": [
    "#declaring a string\n",
    "\n",
    "a = 'Hello' \n",
    "b = \"Hello\" #'' and \"\" both are same\n",
    "print(a)\n",
    "print(b)"
   ]
  },
  {
   "cell_type": "code",
   "execution_count": 14,
   "id": "b535c7a7",
   "metadata": {},
   "outputs": [
    {
     "name": "stdout",
     "output_type": "stream",
     "text": [
      " Data science and machine learning is the current,\n",
      "sensational course which everybody is currently interested to pursue.\n"
     ]
    }
   ],
   "source": [
    "# multiline strings will be declared inside triple quotes\n",
    "\n",
    "a = \"\"\" Data science and machine learning is the current,\n",
    "sensational course which everybody is currently interested to pursue.\"\"\"\n",
    "print(a)"
   ]
  },
  {
   "cell_type": "code",
   "execution_count": 17,
   "id": "00ba96d5",
   "metadata": {},
   "outputs": [
    {
     "name": "stdout",
     "output_type": "stream",
     "text": [
      "<class 'str'>\n"
     ]
    }
   ],
   "source": [
    "# checking the type \n",
    "\n",
    "a = 'hello'\n",
    "print(type(a))\n",
    "\n",
    "#detailed string concepts will be practised separately"
   ]
  },
  {
   "cell_type": "markdown",
   "id": "f63120ea",
   "metadata": {},
   "source": [
    "### Python List data type\n",
    "\n",
    "1. Python list contains items separated by commas and enclosed within ([]) square brackets.\n",
    "\n",
    "2. Python list can be different data types"
   ]
  },
  {
   "cell_type": "code",
   "execution_count": 18,
   "id": "2edfb431",
   "metadata": {},
   "outputs": [
    {
     "name": "stdout",
     "output_type": "stream",
     "text": [
      "['hello', 23, 'age', 2056.45]\n",
      "<class 'list'>\n"
     ]
    }
   ],
   "source": [
    "a = ['hello', 23, 'age', 2056.45]\n",
    "print(a)\n",
    "print(type(a))"
   ]
  },
  {
   "cell_type": "markdown",
   "id": "02dc8346",
   "metadata": {},
   "source": [
    "### Python Tuple data type\n",
    "\n",
    "1. Tuple is another sequence data type similar to list which contains number of values separated by commas and enclosed within\n",
    "() paranthesis"
   ]
  },
  {
   "cell_type": "code",
   "execution_count": 20,
   "id": "289c22b1",
   "metadata": {},
   "outputs": [
    {
     "name": "stdout",
     "output_type": "stream",
     "text": [
      "('hello', 23, 'age', 2056.45)\n",
      "<class 'tuple'>\n"
     ]
    }
   ],
   "source": [
    "b  = ('hello', 23, 'age', 2056.45)\n",
    "print(b)\n",
    "print(type(b))"
   ]
  },
  {
   "cell_type": "markdown",
   "id": "b734cf63",
   "metadata": {},
   "source": [
    "### Python Ranges \n",
    "\n",
    "1. range() is an in-built function in python which returns a sequence of numbers starting from 0 and increments to 1 until it reaches a specified number.\n",
    "\n",
    "2.  range() function is used with for and while loop to generate a sequence of numbers\n",
    "\n",
    "Syntax: \n",
    "\n",
    "range(start, stop, step)\n",
    "\n",
    "Explanation: \n",
    "\n",
    "start - integer number which specifies the starting position (optional,by default 0)\n",
    "\n",
    "stop - integer number to specify starting position (mandatory)\n",
    "\n",
    "step - integer number to specify increment (optional, by default 1)"
   ]
  },
  {
   "cell_type": "code",
   "execution_count": 22,
   "id": "a583003a",
   "metadata": {},
   "outputs": [
    {
     "name": "stdout",
     "output_type": "stream",
     "text": [
      "0\n",
      "1\n",
      "2\n",
      "3\n",
      "4\n"
     ]
    }
   ],
   "source": [
    "#print number in the range of 5 (0-4)\n",
    "\n",
    "for i in range(5):\n",
    "    print(i)"
   ]
  },
  {
   "cell_type": "code",
   "execution_count": 23,
   "id": "6b5e0071",
   "metadata": {},
   "outputs": [
    {
     "name": "stdout",
     "output_type": "stream",
     "text": [
      "1\n",
      "2\n",
      "3\n",
      "4\n"
     ]
    }
   ],
   "source": [
    "#print numbers in the range of 5 by introducing starting point\n",
    "\n",
    "for i in range(1,5): #now it takes the value from 1 and prints till 4 rather than 0\n",
    "    print(i)"
   ]
  },
  {
   "cell_type": "code",
   "execution_count": 24,
   "id": "ff686d41",
   "metadata": {},
   "outputs": [
    {
     "name": "stdout",
     "output_type": "stream",
     "text": [
      "1\n",
      "3\n",
      "5\n"
     ]
    }
   ],
   "source": [
    "#print the numbers starting from 1 with a step count of 2 rather than default value range(start, end, step)\n",
    "\n",
    "for i in range(1,6,2):  #increments by 2 steps and provides output\n",
    "    print(i)"
   ]
  },
  {
   "cell_type": "markdown",
   "id": "7dc31d39",
   "metadata": {},
   "source": [
    "### Python Dictionary data type\n",
    "\n",
    "1. Dictionary data types are similar to hash table type\n",
    "\n",
    "2. Dictionaries are written with curly brackets, and have keys and values\n",
    "\n",
    "3. A dictionary is a collection which is ordered*, changeable and do not allow duplicates.\n",
    "\n",
    "4. Inorder to perform mapping between key and value pair : colon symbol is used"
   ]
  },
  {
   "cell_type": "code",
   "execution_count": 25,
   "id": "6e47f714",
   "metadata": {},
   "outputs": [
    {
     "name": "stdout",
     "output_type": "stream",
     "text": [
      "{1: 'one', 2: 'two', 3: 'three'}\n",
      "<class 'dict'>\n"
     ]
    }
   ],
   "source": [
    "a = {1:'one', 2:'two', 3:'three'}\n",
    "print(a)\n",
    "print(type(a))"
   ]
  },
  {
   "cell_type": "markdown",
   "id": "b4c6fbd5",
   "metadata": {},
   "source": [
    "### Python Set data type\n",
    "\n",
    "1. Sets are used to store multiple items in a single variable.\n",
    "\n",
    "2. Set is one of 4 built-in data types in Python used to store collections of data.\n",
    "\n",
    "3. A set is a collection which is unordered, unchangeable*, and unindexed and written in {}.\n",
    "\n",
    "4. Sets does not allow duplicates."
   ]
  },
  {
   "cell_type": "code",
   "execution_count": 26,
   "id": "ca1629cf",
   "metadata": {},
   "outputs": [
    {
     "name": "stdout",
     "output_type": "stream",
     "text": [
      "{'apple', 'cherry', 'banana'}\n",
      "<class 'set'>\n"
     ]
    }
   ],
   "source": [
    "set1 = {\"apple\", \"banana\", \"cherry\"}\n",
    "print(set1)\n",
    "print(type(set1))"
   ]
  },
  {
   "cell_type": "code",
   "execution_count": 29,
   "id": "7bdae06d",
   "metadata": {},
   "outputs": [
    {
     "name": "stdout",
     "output_type": "stream",
     "text": [
      "{'apple', 'cherry', 'banana'}\n"
     ]
    }
   ],
   "source": [
    "#duplicates\n",
    "\n",
    "set2 = {\"apple\", \"banana\", \"cherry\", \"apple\"}\n",
    "print(set2)\n",
    "#it will only print the first occurance of apple because set does not allow duplicates"
   ]
  },
  {
   "cell_type": "markdown",
   "id": "db6688c4",
   "metadata": {},
   "source": [
    "String, List, Tuple, Dictionary, Set - Each have its own operations which will be explored separately."
   ]
  }
 ],
 "metadata": {
  "kernelspec": {
   "display_name": "Python 3 (ipykernel)",
   "language": "python",
   "name": "python3"
  },
  "language_info": {
   "codemirror_mode": {
    "name": "ipython",
    "version": 3
   },
   "file_extension": ".py",
   "mimetype": "text/x-python",
   "name": "python",
   "nbconvert_exporter": "python",
   "pygments_lexer": "ipython3",
   "version": "3.10.9"
  }
 },
 "nbformat": 4,
 "nbformat_minor": 5
}
