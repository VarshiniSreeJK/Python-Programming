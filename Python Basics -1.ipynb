{
 "cells": [
  {
   "cell_type": "markdown",
   "id": "a3fc782e",
   "metadata": {},
   "source": [
    "### Python Programming - Basics"
   ]
  },
  {
   "cell_type": "code",
   "execution_count": 1,
   "id": "c471e430",
   "metadata": {},
   "outputs": [
    {
     "name": "stdout",
     "output_type": "stream",
     "text": [
      "Hello World\n"
     ]
    }
   ],
   "source": [
    "#Basic python statement\n",
    "\n",
    "print(\"Hello World\")"
   ]
  },
  {
   "cell_type": "markdown",
   "id": "90727b99",
   "metadata": {},
   "source": [
    "### Python Indendation\n",
    "\n",
    "1. Indentation refers to the spaces at the beginning of a code line.\n",
    "\n",
    "2. Python uses indendation to indicate a block of code and hence it is very important\n",
    "\n"
   ]
  },
  {
   "cell_type": "markdown",
   "id": "ce14c42f",
   "metadata": {},
   "source": [
    "### Python Comments"
   ]
  },
  {
   "cell_type": "code",
   "execution_count": null,
   "id": "90ae5c7e",
   "metadata": {},
   "outputs": [],
   "source": [
    "# Single Line comment\n",
    "\n",
    "\"\"\"\n",
    "Example for\n",
    "multiline comment\n",
    "\n",
    "\"\"\""
   ]
  },
  {
   "cell_type": "markdown",
   "id": "0b34dc66",
   "metadata": {},
   "source": [
    "### Python Variables  - are containers for storing values"
   ]
  },
  {
   "cell_type": "markdown",
   "id": "b6d2a062",
   "metadata": {},
   "source": [
    "#### Rules for creating a variable\n",
    "\n",
    "1. Variables must start with a letter or underscore character.\n",
    "\n",
    "2. Variable names cannot start with a number.\n",
    "\n",
    "3. Variable names can contain only alpha-numeric characters and underscores (A-Z, 0-9 and _).\n",
    "\n",
    "4. Variable names are case-sensitive (age, Age and AGE are 3 different variables)\n",
    "\n",
    "General Note:\n",
    "\n",
    "1. Variables do not need to be declared with any particular type, and can even change type after they have been set.\n",
    "\n",
    "2. String variables can be declared either using '' or \"\" (single or double quotes)\n",
    "\n",
    "3. type() function is used to get the data type of the variable.\n",
    "\n",
    "4. To specify the data type of the variable we can use a method called type casting.\n",
    "\n",
    "5. Multiple values can be assigned to variables in one line in python.\n",
    "\n",
    "6. Same value can be assigned to multiple variables in one line.\n",
    "\n"
   ]
  },
  {
   "cell_type": "code",
   "execution_count": 9,
   "id": "300c39c9",
   "metadata": {},
   "outputs": [
    {
     "name": "stdout",
     "output_type": "stream",
     "text": [
      "<class 'int'>\n"
     ]
    }
   ],
   "source": [
    "# variable examples \n",
    "\n",
    "a = 10 #int data type\n",
    "b = 5.9 #float data type\n",
    "c = \"Hello\" #string data type using \"\"\n",
    "print(type(a)) #prints data type of a\n",
    "d = 'World' #string data type using ''\n"
   ]
  },
  {
   "cell_type": "code",
   "execution_count": 10,
   "id": "38ea17d8",
   "metadata": {},
   "outputs": [
    {
     "name": "stdout",
     "output_type": "stream",
     "text": [
      "<class 'int'>\n",
      "5\n"
     ]
    }
   ],
   "source": [
    "#casting \n",
    "\n",
    "x = int(5)\n",
    "print(type(x))\n",
    "print(x)"
   ]
  },
  {
   "cell_type": "code",
   "execution_count": 11,
   "id": "beeac90d",
   "metadata": {},
   "outputs": [
    {
     "name": "stdout",
     "output_type": "stream",
     "text": [
      "10 20 30\n",
      "apple orange banana\n"
     ]
    }
   ],
   "source": [
    "#Assigning multiple values to variables in single line\n",
    "\n",
    "x,y,z = 10,20,30 \n",
    "print(x,y,z)\n",
    "\n",
    "a,b,c = \"apple\",\"orange\",'banana'\n",
    "print(a,b,c)"
   ]
  },
  {
   "cell_type": "code",
   "execution_count": 17,
   "id": "36ff5368",
   "metadata": {},
   "outputs": [
    {
     "name": "stdout",
     "output_type": "stream",
     "text": [
      "10 10 10\n",
      "apple apple apple\n",
      "Printing in new lines for each variable\n",
      "10\n",
      "10\n",
      "10\n"
     ]
    }
   ],
   "source": [
    "#Assigning single value to multiple variables\n",
    "\n",
    "x=y=z = 10\n",
    "print(x,y,z)\n",
    "\n",
    "a=b=c='apple'\n",
    "print(a,b,c)\n",
    "\n",
    "#Give print statement for each variable separately to get results in next line\n",
    "print('Printing in new lines for each variable')\n",
    "print(x)\n",
    "print(y)\n",
    "print(z)"
   ]
  },
  {
   "cell_type": "markdown",
   "id": "7f71d341",
   "metadata": {},
   "source": [
    "### Unpack a collection\n",
    "\n",
    "If a collection of values is present in list, tuple, set etc then python allows to extract these collections into variables and the process is called as unpacking."
   ]
  },
  {
   "cell_type": "code",
   "execution_count": 18,
   "id": "9c5f4117",
   "metadata": {},
   "outputs": [
    {
     "name": "stdout",
     "output_type": "stream",
     "text": [
      "audi\n",
      "bmw\n",
      "benz\n",
      "volvo\n"
     ]
    }
   ],
   "source": [
    "#Unpacking from a list\n",
    "\n",
    "cars = ['audi', 'bmw', 'benz','volvo'] #cars is a list that holds the names of cars\n",
    "c1,c2,c3,c4 = cars  #the list is been extracted and assigned to 4 variables c1,c2,c3,c4\n",
    "print(c1)\n",
    "print(c2)\n",
    "print(c3)\n",
    "print(c4)"
   ]
  },
  {
   "cell_type": "markdown",
   "id": "3047fc21",
   "metadata": {},
   "source": [
    "### Python output variables\n",
    "\n",
    "print() function is used to print the output of the variables\n",
    "\n",
    "1. We can output multiple variables using a comma(,)\n",
    "\n",
    "2.  (+) operator can also be used to output multiple variables\n",
    "\n",
    "3. A space character after the string variables gives space.\n",
    "\n",
    "4.  (+) operator works as a mathematical operator (addition) for number data type\n",
    "\n",
    "5. The best way to output multiple variables in the print() function is to separate them with commas, which even support different data types\n",
    "\n",
    "Error scenario:\n",
    "\n",
    "1. In the print() function, when wetry to combine a string and a number with the + operator, Python will throw an error"
   ]
  },
  {
   "cell_type": "code",
   "execution_count": 21,
   "id": "c8729ab3",
   "metadata": {},
   "outputs": [
    {
     "name": "stdout",
     "output_type": "stream",
     "text": [
      "10\n"
     ]
    }
   ],
   "source": [
    "#using print()to output variable\n",
    "z = 10\n",
    "print(z)"
   ]
  },
  {
   "cell_type": "code",
   "execution_count": 20,
   "id": "eb83e2f7",
   "metadata": {},
   "outputs": [
    {
     "name": "stdout",
     "output_type": "stream",
     "text": [
      "10 20 30\n"
     ]
    }
   ],
   "source": [
    "#Output multiple variables using comma\n",
    "x=10\n",
    "y=20\n",
    "z=30\n",
    "print(x,y,z)"
   ]
  },
  {
   "cell_type": "code",
   "execution_count": 28,
   "id": "77361a64",
   "metadata": {},
   "outputs": [
    {
     "name": "stdout",
     "output_type": "stream",
     "text": [
      "hello welcome bubyee \n"
     ]
    }
   ],
   "source": [
    "#using + and space character in string\n",
    "= \"hello \"\n",
    "y = \"welcome \"\n",
    "z = \"bubyee \"\n",
    "print(x + y + z)"
   ]
  },
  {
   "cell_type": "code",
   "execution_count": 30,
   "id": "136e230d",
   "metadata": {},
   "outputs": [
    {
     "name": "stdout",
     "output_type": "stream",
     "text": [
      "30\n"
     ]
    }
   ],
   "source": [
    "# using + for number data type\n",
    "\n",
    "x = 10\n",
    "y = 20\n",
    "print(x+y)"
   ]
  },
  {
   "cell_type": "code",
   "execution_count": 31,
   "id": "28d1ec26",
   "metadata": {},
   "outputs": [
    {
     "ename": "TypeError",
     "evalue": "can only concatenate str (not \"int\") to str",
     "output_type": "error",
     "traceback": [
      "\u001b[1;31m---------------------------------------------------------------------------\u001b[0m",
      "\u001b[1;31mTypeError\u001b[0m                                 Traceback (most recent call last)",
      "Cell \u001b[1;32mIn[31], line 5\u001b[0m\n\u001b[0;32m      3\u001b[0m x \u001b[38;5;241m=\u001b[39m \u001b[38;5;124m'\u001b[39m\u001b[38;5;124mstring\u001b[39m\u001b[38;5;124m'\u001b[39m\n\u001b[0;32m      4\u001b[0m y \u001b[38;5;241m=\u001b[39m \u001b[38;5;241m10\u001b[39m\n\u001b[1;32m----> 5\u001b[0m \u001b[38;5;28mprint\u001b[39m(\u001b[43mx\u001b[49m\u001b[38;5;241;43m+\u001b[39;49m\u001b[43my\u001b[49m)\n",
      "\u001b[1;31mTypeError\u001b[0m: can only concatenate str (not \"int\") to str"
     ]
    }
   ],
   "source": [
    "#Error scenario when combining string and int\n",
    "\n",
    "x = 'string'\n",
    "y = 10\n",
    "print(x+y)"
   ]
  },
  {
   "cell_type": "code",
   "execution_count": 32,
   "id": "8ad5f87b",
   "metadata": {},
   "outputs": [
    {
     "name": "stdout",
     "output_type": "stream",
     "text": [
      "string 10\n"
     ]
    }
   ],
   "source": [
    "#To print both string and int\n",
    "\n",
    "x = 'string'\n",
    "y = 10\n",
    "print(x,y)"
   ]
  },
  {
   "cell_type": "markdown",
   "id": "4f46f779",
   "metadata": {},
   "source": [
    "### Global Variables\n",
    "\n",
    "1. Variables that are created outside of a function\n",
    "\n",
    "2. Global variables can be used by everyone, both inside of functions and outside.\n",
    "\n"
   ]
  },
  {
   "cell_type": "code",
   "execution_count": 35,
   "id": "b6b65398",
   "metadata": {},
   "outputs": [
    {
     "name": "stdout",
     "output_type": "stream",
     "text": [
      "Welcome to Python\n"
     ]
    }
   ],
   "source": [
    "x = \"Python\"\n",
    "\n",
    "def myFunction():\n",
    "    print(\"Welcome to \" + x)\n",
    "\n",
    "myFunction()"
   ]
  },
  {
   "cell_type": "markdown",
   "id": "3b9401b1",
   "metadata": {},
   "source": [
    "1. If a variable with the same name is created inside a function,then this variable will be local, and can only be used inside the function.\n",
    "\n",
    "2. The global variable with the same name will remain as it was, global and with the original value.\n",
    "\n"
   ]
  },
  {
   "cell_type": "code",
   "execution_count": 39,
   "id": "1d6ceec2",
   "metadata": {},
   "outputs": [
    {
     "name": "stdout",
     "output_type": "stream",
     "text": [
      "Welcome to Python programming\n",
      "Welcome to Python\n"
     ]
    }
   ],
   "source": [
    "#Create a variable inside a function, with the same name as the global variable\n",
    "x = \"Python\"\n",
    "\n",
    "def myFunction():\n",
    "    x = \"Python programming\"\n",
    "    print(\"Welcome to \" + x)\n",
    "\n",
    "myFunction()\n",
    "\n",
    "print(\"Welcome to \" + x)"
   ]
  },
  {
   "cell_type": "markdown",
   "id": "e9cd693b",
   "metadata": {},
   "source": [
    "### Global Keyword\n",
    "\n",
    "1. To create a global variable inside a function global keyword is used"
   ]
  },
  {
   "cell_type": "code",
   "execution_count": 41,
   "id": "27b8dabb",
   "metadata": {},
   "outputs": [
    {
     "name": "stdout",
     "output_type": "stream",
     "text": [
      "Welcome to Python\n"
     ]
    }
   ],
   "source": [
    "def myFunction():\n",
    "    global x\n",
    "    x = \"Python\"\n",
    "\n",
    "myFunction()\n",
    "\n",
    "print(\"Welcome to \" + x)"
   ]
  },
  {
   "cell_type": "code",
   "execution_count": 42,
   "id": "f577bc4e",
   "metadata": {},
   "outputs": [
    {
     "name": "stdout",
     "output_type": "stream",
     "text": [
      "Welcome to Python programming\n"
     ]
    }
   ],
   "source": [
    "#To change the value of a global variable inside a function, refer to the variable by using the global keyword\n",
    "\n",
    "x = \"Python\"\n",
    "\n",
    "def myFunction():\n",
    "    global x\n",
    "    x = \"Python programming\"\n",
    "\n",
    "myFunction()\n",
    "\n",
    "print(\"Welcome to \" + x)\n",
    "\n"
   ]
  },
  {
   "cell_type": "code",
   "execution_count": null,
   "id": "abe2f0ad",
   "metadata": {},
   "outputs": [],
   "source": [
    "#Function concepts will be discussed and practised later."
   ]
  },
  {
   "cell_type": "markdown",
   "id": "6683a0c0",
   "metadata": {},
   "source": [
    "Practice Source :\n",
    "\n",
    "1. W3 schools\n",
    "2. TutorialsPoint\n",
    "3. GeeksForGeeks\n",
    "4. JavaTpoint - python tutorial (optional)\n",
    "5. Youtube (optional)"
   ]
  }
 ],
 "metadata": {
  "kernelspec": {
   "display_name": "Python 3 (ipykernel)",
   "language": "python",
   "name": "python3"
  },
  "language_info": {
   "codemirror_mode": {
    "name": "ipython",
    "version": 3
   },
   "file_extension": ".py",
   "mimetype": "text/x-python",
   "name": "python",
   "nbconvert_exporter": "python",
   "pygments_lexer": "ipython3",
   "version": "3.10.9"
  }
 },
 "nbformat": 4,
 "nbformat_minor": 5
}
